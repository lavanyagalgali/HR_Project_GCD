{
  "nbformat": 4,
  "nbformat_minor": 0,
  "metadata": {
    "colab": {
      "provenance": [],
      "collapsed_sections": [
        "JfPCe_b832lr",
        "q-UlGEL84B95",
        "98VCeqpVEVl0",
        "23ckwYbjUJ1h",
        "nSEdylN94cUc",
        "mM5FSIE5DFDj",
        "634s60ioKDZv",
        "7CTlSJXeWy0d",
        "ACMT_ej4cG1G",
        "-d5tzymeWt91",
        "GNjzbpsUW5LL",
        "YbgiVglOfk9-",
        "ftUt4P5tT-LH",
        "G-hUpHsxLv5i",
        "5K-57Zn7XKr-",
        "BDe0enOOXejh",
        "P3F2hz4FXvj1",
        "QpBnnwIdXvgV",
        "9jZOqeusixQi",
        "TAsloiOfXvdn",
        "RB0fJznKUawi",
        "WzTZ4XW9UlbJ",
        "eZbOqBrXC46w"
      ]
    },
    "kernelspec": {
      "name": "python3",
      "display_name": "Python 3"
    },
    "language_info": {
      "name": "python"
    }
  },
  "cells": [
    {
      "cell_type": "markdown",
      "source": [
        "# <center><b>**1009_GCD- Capstone_Project _Model Building**<center><b>"
      ],
      "metadata": {
        "id": "MD2Onc1aFAh6"
      }
    },
    {
      "cell_type": "markdown",
      "source": [
        "---\n",
        "# **Table of Contents**\n",
        "---\n",
        "**1.** [**Installing & Importing Libraries**](#Section1)<br>\n",
        "**2.** [**Data Acquisition**](#Section2)<br>\n",
        "**3.** [**Feature Scaling**](#Section3)<br>\n",
        "**4.** [**Model Development & Evaluation**](#Section4)<br>\n",
        "\n",
        "   - **4.1** [**Data Preparation**](#Section4.1)<br>\n",
        "   - **4.2** [**LogisticRegression**](#Section4.2)<br>\n",
        "   - **4.3** [**RandomForest Classifier**](#Section4.3)<br>\n",
        "   - **4.4** [**DecisionTree Classifier**](#Section4.4)<br>\n",
        "   - **4.5** [**Navie Bayes**](#Section4.5)<br>\n",
        "   - **4.6** [**Ada Boosting**](#Section4.6)<br>\n",
        "   - **4.7** [**XG Boost Classifier**](#Section4.7)<br>\n",
        "   - **4.8** [**Gradient Bosst Classifier**](#Section4.8)<br>\n",
        "\n",
        "**5** [**Hyperparameter Tuning**](#Section5)<br>\n",
        "   \n",
        "   - **5.1** [**RandomizedSearchCV with RandomforestClassifier**](#Section5.1)<br>\n",
        "   - **5.2** [**GridSearchCV with DecisionTree Classifier**](#Section5.2)<br>\n",
        "\n",
        "**6** [**Tune Model With Cross Validation**](#Section6)<br>\n",
        "  - **6.1** [**LogisticRegression**](#Section6.1)<br>\n",
        "  - **6.2** [**Ada Boosting**](#Section6.2)<br>\n",
        "  - **6.3** [**XG Boost Classifier**](#Section6.3)<br>\n",
        "  - **6.4** [**Gradient Bosst Classifier**](#Section6.4)<br>\n",
        "\n",
        "**7** [**Selecting Best Model**](#Section7)<br>\n",
        "**8** [**Uploading And Cleaning of Unseendata**](#Section8)<br>\n",
        "**9** [**Predict Unseendata**](#Section9)<br>\n",
        "**10** [**Conclusion**](#Section10)<br>"
      ],
      "metadata": {
        "id": "xb9vZZrNrT3T"
      }
    },
    {
      "cell_type": "markdown",
      "source": [
        "<a name = Section1></a>\n",
        "### **1. Installing & Importing Libraries**"
      ],
      "metadata": {
        "id": "JfPCe_b832lr"
      }
    },
    {
      "cell_type": "code",
      "execution_count": null,
      "metadata": {
        "id": "UZ0VGHlW_Mtd"
      },
      "outputs": [],
      "source": [
        "import pandas as pd \n",
        "import numpy as np\n",
        "import matplotlib.pyplot as plt\n",
        "from sklearn.preprocessing import StandardScaler\n",
        "from sklearn.model_selection import train_test_split,RandomizedSearchCV,GridSearchCV\n",
        "from sklearn.linear_model import LogisticRegression\n",
        "from sklearn.ensemble import RandomForestClassifier,AdaBoostClassifier,GradientBoostingClassifier, StackingClassifier\n",
        "from xgboost import XGBClassifier\n",
        "from sklearn.tree import DecisionTreeClassifier\n",
        "from sklearn.naive_bayes import GaussianNB \n",
        "\n",
        "from sklearn.metrics import accuracy_score,f1_score,classification_report,confusion_matrix,plot_confusion_matrix,roc_curve,precision_score,recall_score\n",
        "from sklearn.metrics import ConfusionMatrixDisplay ,precision_recall_curve,plot_roc_curve\n",
        "import warnings                                                     # Importing warning to disable runtime warnings\n",
        "warnings.filterwarnings(\"ignore\") "
      ]
    },
    {
      "cell_type": "markdown",
      "source": [
        "<a name = Section2></a>\n",
        "### **2. Data Acquisition**"
      ],
      "metadata": {
        "id": "q-UlGEL84B95"
      }
    },
    {
      "cell_type": "code",
      "source": [
        "df = pd.read_csv('/content/employee_data_INSAID.csv')\n",
        "df.head(2)"
      ],
      "metadata": {
        "colab": {
          "base_uri": "https://localhost:8080/",
          "height": 176
        },
        "id": "uL76uaqxCUbK",
        "outputId": "cdd8a1e6-df02-4634-e227-940a2cbb3498"
      },
      "execution_count": null,
      "outputs": [
        {
          "output_type": "execute_result",
          "data": {
            "text/plain": [
              "   avg_monthly_hrs  department  filed_complaint  last_evaluation  n_projects  \\\n",
              "0            246.0           0                0         0.866838           6   \n",
              "1            134.0           0                0         0.555718           2   \n",
              "\n",
              "   recently_promoted  satisfaction  status  tenure  employee_id  age  \\\n",
              "0                  0      0.134415       1       4       124467   42   \n",
              "1                  0      0.511041       1       3       112210   23   \n",
              "\n",
              "   salary_high  salary_low  salary_medium  gender_Female  gender_Male  \\\n",
              "0            0           0              1              1            0   \n",
              "1            0           1              0              1            0   \n",
              "\n",
              "   marital_status_Married  marital_status_Unmarried  \n",
              "0                       1                         0  \n",
              "1                       0                         1  "
            ],
            "text/html": [
              "\n",
              "  <div id=\"df-a7559699-4030-4bd2-ba8d-f521888a2de9\">\n",
              "    <div class=\"colab-df-container\">\n",
              "      <div>\n",
              "<style scoped>\n",
              "    .dataframe tbody tr th:only-of-type {\n",
              "        vertical-align: middle;\n",
              "    }\n",
              "\n",
              "    .dataframe tbody tr th {\n",
              "        vertical-align: top;\n",
              "    }\n",
              "\n",
              "    .dataframe thead th {\n",
              "        text-align: right;\n",
              "    }\n",
              "</style>\n",
              "<table border=\"1\" class=\"dataframe\">\n",
              "  <thead>\n",
              "    <tr style=\"text-align: right;\">\n",
              "      <th></th>\n",
              "      <th>avg_monthly_hrs</th>\n",
              "      <th>department</th>\n",
              "      <th>filed_complaint</th>\n",
              "      <th>last_evaluation</th>\n",
              "      <th>n_projects</th>\n",
              "      <th>recently_promoted</th>\n",
              "      <th>satisfaction</th>\n",
              "      <th>status</th>\n",
              "      <th>tenure</th>\n",
              "      <th>employee_id</th>\n",
              "      <th>age</th>\n",
              "      <th>salary_high</th>\n",
              "      <th>salary_low</th>\n",
              "      <th>salary_medium</th>\n",
              "      <th>gender_Female</th>\n",
              "      <th>gender_Male</th>\n",
              "      <th>marital_status_Married</th>\n",
              "      <th>marital_status_Unmarried</th>\n",
              "    </tr>\n",
              "  </thead>\n",
              "  <tbody>\n",
              "    <tr>\n",
              "      <th>0</th>\n",
              "      <td>246.0</td>\n",
              "      <td>0</td>\n",
              "      <td>0</td>\n",
              "      <td>0.866838</td>\n",
              "      <td>6</td>\n",
              "      <td>0</td>\n",
              "      <td>0.134415</td>\n",
              "      <td>1</td>\n",
              "      <td>4</td>\n",
              "      <td>124467</td>\n",
              "      <td>42</td>\n",
              "      <td>0</td>\n",
              "      <td>0</td>\n",
              "      <td>1</td>\n",
              "      <td>1</td>\n",
              "      <td>0</td>\n",
              "      <td>1</td>\n",
              "      <td>0</td>\n",
              "    </tr>\n",
              "    <tr>\n",
              "      <th>1</th>\n",
              "      <td>134.0</td>\n",
              "      <td>0</td>\n",
              "      <td>0</td>\n",
              "      <td>0.555718</td>\n",
              "      <td>2</td>\n",
              "      <td>0</td>\n",
              "      <td>0.511041</td>\n",
              "      <td>1</td>\n",
              "      <td>3</td>\n",
              "      <td>112210</td>\n",
              "      <td>23</td>\n",
              "      <td>0</td>\n",
              "      <td>1</td>\n",
              "      <td>0</td>\n",
              "      <td>1</td>\n",
              "      <td>0</td>\n",
              "      <td>0</td>\n",
              "      <td>1</td>\n",
              "    </tr>\n",
              "  </tbody>\n",
              "</table>\n",
              "</div>\n",
              "      <button class=\"colab-df-convert\" onclick=\"convertToInteractive('df-a7559699-4030-4bd2-ba8d-f521888a2de9')\"\n",
              "              title=\"Convert this dataframe to an interactive table.\"\n",
              "              style=\"display:none;\">\n",
              "        \n",
              "  <svg xmlns=\"http://www.w3.org/2000/svg\" height=\"24px\"viewBox=\"0 0 24 24\"\n",
              "       width=\"24px\">\n",
              "    <path d=\"M0 0h24v24H0V0z\" fill=\"none\"/>\n",
              "    <path d=\"M18.56 5.44l.94 2.06.94-2.06 2.06-.94-2.06-.94-.94-2.06-.94 2.06-2.06.94zm-11 1L8.5 8.5l.94-2.06 2.06-.94-2.06-.94L8.5 2.5l-.94 2.06-2.06.94zm10 10l.94 2.06.94-2.06 2.06-.94-2.06-.94-.94-2.06-.94 2.06-2.06.94z\"/><path d=\"M17.41 7.96l-1.37-1.37c-.4-.4-.92-.59-1.43-.59-.52 0-1.04.2-1.43.59L10.3 9.45l-7.72 7.72c-.78.78-.78 2.05 0 2.83L4 21.41c.39.39.9.59 1.41.59.51 0 1.02-.2 1.41-.59l7.78-7.78 2.81-2.81c.8-.78.8-2.07 0-2.86zM5.41 20L4 18.59l7.72-7.72 1.47 1.35L5.41 20z\"/>\n",
              "  </svg>\n",
              "      </button>\n",
              "      \n",
              "  <style>\n",
              "    .colab-df-container {\n",
              "      display:flex;\n",
              "      flex-wrap:wrap;\n",
              "      gap: 12px;\n",
              "    }\n",
              "\n",
              "    .colab-df-convert {\n",
              "      background-color: #E8F0FE;\n",
              "      border: none;\n",
              "      border-radius: 50%;\n",
              "      cursor: pointer;\n",
              "      display: none;\n",
              "      fill: #1967D2;\n",
              "      height: 32px;\n",
              "      padding: 0 0 0 0;\n",
              "      width: 32px;\n",
              "    }\n",
              "\n",
              "    .colab-df-convert:hover {\n",
              "      background-color: #E2EBFA;\n",
              "      box-shadow: 0px 1px 2px rgba(60, 64, 67, 0.3), 0px 1px 3px 1px rgba(60, 64, 67, 0.15);\n",
              "      fill: #174EA6;\n",
              "    }\n",
              "\n",
              "    [theme=dark] .colab-df-convert {\n",
              "      background-color: #3B4455;\n",
              "      fill: #D2E3FC;\n",
              "    }\n",
              "\n",
              "    [theme=dark] .colab-df-convert:hover {\n",
              "      background-color: #434B5C;\n",
              "      box-shadow: 0px 1px 3px 1px rgba(0, 0, 0, 0.15);\n",
              "      filter: drop-shadow(0px 1px 2px rgba(0, 0, 0, 0.3));\n",
              "      fill: #FFFFFF;\n",
              "    }\n",
              "  </style>\n",
              "\n",
              "      <script>\n",
              "        const buttonEl =\n",
              "          document.querySelector('#df-a7559699-4030-4bd2-ba8d-f521888a2de9 button.colab-df-convert');\n",
              "        buttonEl.style.display =\n",
              "          google.colab.kernel.accessAllowed ? 'block' : 'none';\n",
              "\n",
              "        async function convertToInteractive(key) {\n",
              "          const element = document.querySelector('#df-a7559699-4030-4bd2-ba8d-f521888a2de9');\n",
              "          const dataTable =\n",
              "            await google.colab.kernel.invokeFunction('convertToInteractive',\n",
              "                                                     [key], {});\n",
              "          if (!dataTable) return;\n",
              "\n",
              "          const docLinkHtml = 'Like what you see? Visit the ' +\n",
              "            '<a target=\"_blank\" href=https://colab.research.google.com/notebooks/data_table.ipynb>data table notebook</a>'\n",
              "            + ' to learn more about interactive tables.';\n",
              "          element.innerHTML = '';\n",
              "          dataTable['output_type'] = 'display_data';\n",
              "          await google.colab.output.renderOutput(dataTable, element);\n",
              "          const docLink = document.createElement('div');\n",
              "          docLink.innerHTML = docLinkHtml;\n",
              "          element.appendChild(docLink);\n",
              "        }\n",
              "      </script>\n",
              "    </div>\n",
              "  </div>\n",
              "  "
            ]
          },
          "metadata": {},
          "execution_count": 134
        }
      ]
    },
    {
      "cell_type": "code",
      "source": [
        "df.info()"
      ],
      "metadata": {
        "colab": {
          "base_uri": "https://localhost:8080/"
        },
        "id": "Xs8z-SL4DAeU",
        "outputId": "d5992c7a-1fdb-4385-da98-6fe781d90800"
      },
      "execution_count": null,
      "outputs": [
        {
          "output_type": "stream",
          "name": "stdout",
          "text": [
            "<class 'pandas.core.frame.DataFrame'>\n",
            "RangeIndex: 14145 entries, 0 to 14144\n",
            "Data columns (total 18 columns):\n",
            " #   Column                    Non-Null Count  Dtype  \n",
            "---  ------                    --------------  -----  \n",
            " 0   avg_monthly_hrs           14145 non-null  float64\n",
            " 1   department                14145 non-null  int64  \n",
            " 2   filed_complaint           14145 non-null  int64  \n",
            " 3   last_evaluation           14145 non-null  float64\n",
            " 4   n_projects                14145 non-null  int64  \n",
            " 5   recently_promoted         14145 non-null  int64  \n",
            " 6   satisfaction              14145 non-null  float64\n",
            " 7   status                    14145 non-null  int64  \n",
            " 8   tenure                    14145 non-null  int64  \n",
            " 9   employee_id               14145 non-null  int64  \n",
            " 10  age                       14145 non-null  int64  \n",
            " 11  salary_high               14145 non-null  int64  \n",
            " 12  salary_low                14145 non-null  int64  \n",
            " 13  salary_medium             14145 non-null  int64  \n",
            " 14  gender_Female             14145 non-null  int64  \n",
            " 15  gender_Male               14145 non-null  int64  \n",
            " 16  marital_status_Married    14145 non-null  int64  \n",
            " 17  marital_status_Unmarried  14145 non-null  int64  \n",
            "dtypes: float64(3), int64(15)\n",
            "memory usage: 1.9 MB\n"
          ]
        }
      ]
    },
    {
      "cell_type": "code",
      "source": [
        "df2=df.copy()"
      ],
      "metadata": {
        "id": "pwxx8E0E-x-5"
      },
      "execution_count": null,
      "outputs": []
    },
    {
      "cell_type": "code",
      "source": [
        "df.drop(['employee_id'],axis =1 )"
      ],
      "metadata": {
        "colab": {
          "base_uri": "https://localhost:8080/",
          "height": 488
        },
        "id": "b7cK9_QB_Dwa",
        "outputId": "9ea4fa45-95a0-404a-a9da-d965222acb6f"
      },
      "execution_count": null,
      "outputs": [
        {
          "output_type": "execute_result",
          "data": {
            "text/plain": [
              "       avg_monthly_hrs  department  filed_complaint  last_evaluation  \\\n",
              "0                246.0           0                0         0.866838   \n",
              "1                134.0           0                0         0.555718   \n",
              "2                156.0           1                1         0.474082   \n",
              "3                256.0           2                0         0.961360   \n",
              "4                146.0           1                0         0.507349   \n",
              "...                ...         ...              ...              ...   \n",
              "14140            141.0           1                0         0.537866   \n",
              "14141            168.0           1                0         0.643553   \n",
              "14142            257.0           2                0         0.722607   \n",
              "14143            242.0           5                0         0.836603   \n",
              "14144            171.0           2                1         0.907277   \n",
              "\n",
              "       n_projects  recently_promoted  satisfaction  status  tenure  age  \\\n",
              "0               6                  0      0.134415       1       4   42   \n",
              "1               2                  0      0.511041       1       3   23   \n",
              "2               2                  0      0.405101       1       3   24   \n",
              "3               6                  0      0.152974       1       4   51   \n",
              "4               2                  0      0.434845       1       3   23   \n",
              "...           ...                ...           ...     ...     ...  ...   \n",
              "14140           3                  0      0.610841       0       3   29   \n",
              "14141           3                  0      0.489559       0       3   24   \n",
              "14142           3                  0      0.944942       0       3   27   \n",
              "14143           4                  0      0.740136       0       2   46   \n",
              "14144           3                  0      0.506658       0       3   22   \n",
              "\n",
              "       salary_high  salary_low  salary_medium  gender_Female  gender_Male  \\\n",
              "0                0           0              1              1            0   \n",
              "1                0           1              0              1            0   \n",
              "2                0           0              1              1            0   \n",
              "3                0           1              0              1            0   \n",
              "4                0           0              1              1            0   \n",
              "...            ...         ...            ...            ...          ...   \n",
              "14140            0           1              0              0            1   \n",
              "14141            0           1              0              1            0   \n",
              "14142            0           0              1              0            1   \n",
              "14143            0           1              0              0            1   \n",
              "14144            0           1              0              0            1   \n",
              "\n",
              "       marital_status_Married  marital_status_Unmarried  \n",
              "0                           1                         0  \n",
              "1                           0                         1  \n",
              "2                           0                         1  \n",
              "3                           1                         0  \n",
              "4                           0                         1  \n",
              "...                       ...                       ...  \n",
              "14140                       0                         1  \n",
              "14141                       0                         1  \n",
              "14142                       0                         1  \n",
              "14143                       1                         0  \n",
              "14144                       0                         1  \n",
              "\n",
              "[14145 rows x 17 columns]"
            ],
            "text/html": [
              "\n",
              "  <div id=\"df-1d674f11-4238-4263-9bb9-2d9b9d40df94\">\n",
              "    <div class=\"colab-df-container\">\n",
              "      <div>\n",
              "<style scoped>\n",
              "    .dataframe tbody tr th:only-of-type {\n",
              "        vertical-align: middle;\n",
              "    }\n",
              "\n",
              "    .dataframe tbody tr th {\n",
              "        vertical-align: top;\n",
              "    }\n",
              "\n",
              "    .dataframe thead th {\n",
              "        text-align: right;\n",
              "    }\n",
              "</style>\n",
              "<table border=\"1\" class=\"dataframe\">\n",
              "  <thead>\n",
              "    <tr style=\"text-align: right;\">\n",
              "      <th></th>\n",
              "      <th>avg_monthly_hrs</th>\n",
              "      <th>department</th>\n",
              "      <th>filed_complaint</th>\n",
              "      <th>last_evaluation</th>\n",
              "      <th>n_projects</th>\n",
              "      <th>recently_promoted</th>\n",
              "      <th>satisfaction</th>\n",
              "      <th>status</th>\n",
              "      <th>tenure</th>\n",
              "      <th>age</th>\n",
              "      <th>salary_high</th>\n",
              "      <th>salary_low</th>\n",
              "      <th>salary_medium</th>\n",
              "      <th>gender_Female</th>\n",
              "      <th>gender_Male</th>\n",
              "      <th>marital_status_Married</th>\n",
              "      <th>marital_status_Unmarried</th>\n",
              "    </tr>\n",
              "  </thead>\n",
              "  <tbody>\n",
              "    <tr>\n",
              "      <th>0</th>\n",
              "      <td>246.0</td>\n",
              "      <td>0</td>\n",
              "      <td>0</td>\n",
              "      <td>0.866838</td>\n",
              "      <td>6</td>\n",
              "      <td>0</td>\n",
              "      <td>0.134415</td>\n",
              "      <td>1</td>\n",
              "      <td>4</td>\n",
              "      <td>42</td>\n",
              "      <td>0</td>\n",
              "      <td>0</td>\n",
              "      <td>1</td>\n",
              "      <td>1</td>\n",
              "      <td>0</td>\n",
              "      <td>1</td>\n",
              "      <td>0</td>\n",
              "    </tr>\n",
              "    <tr>\n",
              "      <th>1</th>\n",
              "      <td>134.0</td>\n",
              "      <td>0</td>\n",
              "      <td>0</td>\n",
              "      <td>0.555718</td>\n",
              "      <td>2</td>\n",
              "      <td>0</td>\n",
              "      <td>0.511041</td>\n",
              "      <td>1</td>\n",
              "      <td>3</td>\n",
              "      <td>23</td>\n",
              "      <td>0</td>\n",
              "      <td>1</td>\n",
              "      <td>0</td>\n",
              "      <td>1</td>\n",
              "      <td>0</td>\n",
              "      <td>0</td>\n",
              "      <td>1</td>\n",
              "    </tr>\n",
              "    <tr>\n",
              "      <th>2</th>\n",
              "      <td>156.0</td>\n",
              "      <td>1</td>\n",
              "      <td>1</td>\n",
              "      <td>0.474082</td>\n",
              "      <td>2</td>\n",
              "      <td>0</td>\n",
              "      <td>0.405101</td>\n",
              "      <td>1</td>\n",
              "      <td>3</td>\n",
              "      <td>24</td>\n",
              "      <td>0</td>\n",
              "      <td>0</td>\n",
              "      <td>1</td>\n",
              "      <td>1</td>\n",
              "      <td>0</td>\n",
              "      <td>0</td>\n",
              "      <td>1</td>\n",
              "    </tr>\n",
              "    <tr>\n",
              "      <th>3</th>\n",
              "      <td>256.0</td>\n",
              "      <td>2</td>\n",
              "      <td>0</td>\n",
              "      <td>0.961360</td>\n",
              "      <td>6</td>\n",
              "      <td>0</td>\n",
              "      <td>0.152974</td>\n",
              "      <td>1</td>\n",
              "      <td>4</td>\n",
              "      <td>51</td>\n",
              "      <td>0</td>\n",
              "      <td>1</td>\n",
              "      <td>0</td>\n",
              "      <td>1</td>\n",
              "      <td>0</td>\n",
              "      <td>1</td>\n",
              "      <td>0</td>\n",
              "    </tr>\n",
              "    <tr>\n",
              "      <th>4</th>\n",
              "      <td>146.0</td>\n",
              "      <td>1</td>\n",
              "      <td>0</td>\n",
              "      <td>0.507349</td>\n",
              "      <td>2</td>\n",
              "      <td>0</td>\n",
              "      <td>0.434845</td>\n",
              "      <td>1</td>\n",
              "      <td>3</td>\n",
              "      <td>23</td>\n",
              "      <td>0</td>\n",
              "      <td>0</td>\n",
              "      <td>1</td>\n",
              "      <td>1</td>\n",
              "      <td>0</td>\n",
              "      <td>0</td>\n",
              "      <td>1</td>\n",
              "    </tr>\n",
              "    <tr>\n",
              "      <th>...</th>\n",
              "      <td>...</td>\n",
              "      <td>...</td>\n",
              "      <td>...</td>\n",
              "      <td>...</td>\n",
              "      <td>...</td>\n",
              "      <td>...</td>\n",
              "      <td>...</td>\n",
              "      <td>...</td>\n",
              "      <td>...</td>\n",
              "      <td>...</td>\n",
              "      <td>...</td>\n",
              "      <td>...</td>\n",
              "      <td>...</td>\n",
              "      <td>...</td>\n",
              "      <td>...</td>\n",
              "      <td>...</td>\n",
              "      <td>...</td>\n",
              "    </tr>\n",
              "    <tr>\n",
              "      <th>14140</th>\n",
              "      <td>141.0</td>\n",
              "      <td>1</td>\n",
              "      <td>0</td>\n",
              "      <td>0.537866</td>\n",
              "      <td>3</td>\n",
              "      <td>0</td>\n",
              "      <td>0.610841</td>\n",
              "      <td>0</td>\n",
              "      <td>3</td>\n",
              "      <td>29</td>\n",
              "      <td>0</td>\n",
              "      <td>1</td>\n",
              "      <td>0</td>\n",
              "      <td>0</td>\n",
              "      <td>1</td>\n",
              "      <td>0</td>\n",
              "      <td>1</td>\n",
              "    </tr>\n",
              "    <tr>\n",
              "      <th>14141</th>\n",
              "      <td>168.0</td>\n",
              "      <td>1</td>\n",
              "      <td>0</td>\n",
              "      <td>0.643553</td>\n",
              "      <td>3</td>\n",
              "      <td>0</td>\n",
              "      <td>0.489559</td>\n",
              "      <td>0</td>\n",
              "      <td>3</td>\n",
              "      <td>24</td>\n",
              "      <td>0</td>\n",
              "      <td>1</td>\n",
              "      <td>0</td>\n",
              "      <td>1</td>\n",
              "      <td>0</td>\n",
              "      <td>0</td>\n",
              "      <td>1</td>\n",
              "    </tr>\n",
              "    <tr>\n",
              "      <th>14142</th>\n",
              "      <td>257.0</td>\n",
              "      <td>2</td>\n",
              "      <td>0</td>\n",
              "      <td>0.722607</td>\n",
              "      <td>3</td>\n",
              "      <td>0</td>\n",
              "      <td>0.944942</td>\n",
              "      <td>0</td>\n",
              "      <td>3</td>\n",
              "      <td>27</td>\n",
              "      <td>0</td>\n",
              "      <td>0</td>\n",
              "      <td>1</td>\n",
              "      <td>0</td>\n",
              "      <td>1</td>\n",
              "      <td>0</td>\n",
              "      <td>1</td>\n",
              "    </tr>\n",
              "    <tr>\n",
              "      <th>14143</th>\n",
              "      <td>242.0</td>\n",
              "      <td>5</td>\n",
              "      <td>0</td>\n",
              "      <td>0.836603</td>\n",
              "      <td>4</td>\n",
              "      <td>0</td>\n",
              "      <td>0.740136</td>\n",
              "      <td>0</td>\n",
              "      <td>2</td>\n",
              "      <td>46</td>\n",
              "      <td>0</td>\n",
              "      <td>1</td>\n",
              "      <td>0</td>\n",
              "      <td>0</td>\n",
              "      <td>1</td>\n",
              "      <td>1</td>\n",
              "      <td>0</td>\n",
              "    </tr>\n",
              "    <tr>\n",
              "      <th>14144</th>\n",
              "      <td>171.0</td>\n",
              "      <td>2</td>\n",
              "      <td>1</td>\n",
              "      <td>0.907277</td>\n",
              "      <td>3</td>\n",
              "      <td>0</td>\n",
              "      <td>0.506658</td>\n",
              "      <td>0</td>\n",
              "      <td>3</td>\n",
              "      <td>22</td>\n",
              "      <td>0</td>\n",
              "      <td>1</td>\n",
              "      <td>0</td>\n",
              "      <td>0</td>\n",
              "      <td>1</td>\n",
              "      <td>0</td>\n",
              "      <td>1</td>\n",
              "    </tr>\n",
              "  </tbody>\n",
              "</table>\n",
              "<p>14145 rows × 17 columns</p>\n",
              "</div>\n",
              "      <button class=\"colab-df-convert\" onclick=\"convertToInteractive('df-1d674f11-4238-4263-9bb9-2d9b9d40df94')\"\n",
              "              title=\"Convert this dataframe to an interactive table.\"\n",
              "              style=\"display:none;\">\n",
              "        \n",
              "  <svg xmlns=\"http://www.w3.org/2000/svg\" height=\"24px\"viewBox=\"0 0 24 24\"\n",
              "       width=\"24px\">\n",
              "    <path d=\"M0 0h24v24H0V0z\" fill=\"none\"/>\n",
              "    <path d=\"M18.56 5.44l.94 2.06.94-2.06 2.06-.94-2.06-.94-.94-2.06-.94 2.06-2.06.94zm-11 1L8.5 8.5l.94-2.06 2.06-.94-2.06-.94L8.5 2.5l-.94 2.06-2.06.94zm10 10l.94 2.06.94-2.06 2.06-.94-2.06-.94-.94-2.06-.94 2.06-2.06.94z\"/><path d=\"M17.41 7.96l-1.37-1.37c-.4-.4-.92-.59-1.43-.59-.52 0-1.04.2-1.43.59L10.3 9.45l-7.72 7.72c-.78.78-.78 2.05 0 2.83L4 21.41c.39.39.9.59 1.41.59.51 0 1.02-.2 1.41-.59l7.78-7.78 2.81-2.81c.8-.78.8-2.07 0-2.86zM5.41 20L4 18.59l7.72-7.72 1.47 1.35L5.41 20z\"/>\n",
              "  </svg>\n",
              "      </button>\n",
              "      \n",
              "  <style>\n",
              "    .colab-df-container {\n",
              "      display:flex;\n",
              "      flex-wrap:wrap;\n",
              "      gap: 12px;\n",
              "    }\n",
              "\n",
              "    .colab-df-convert {\n",
              "      background-color: #E8F0FE;\n",
              "      border: none;\n",
              "      border-radius: 50%;\n",
              "      cursor: pointer;\n",
              "      display: none;\n",
              "      fill: #1967D2;\n",
              "      height: 32px;\n",
              "      padding: 0 0 0 0;\n",
              "      width: 32px;\n",
              "    }\n",
              "\n",
              "    .colab-df-convert:hover {\n",
              "      background-color: #E2EBFA;\n",
              "      box-shadow: 0px 1px 2px rgba(60, 64, 67, 0.3), 0px 1px 3px 1px rgba(60, 64, 67, 0.15);\n",
              "      fill: #174EA6;\n",
              "    }\n",
              "\n",
              "    [theme=dark] .colab-df-convert {\n",
              "      background-color: #3B4455;\n",
              "      fill: #D2E3FC;\n",
              "    }\n",
              "\n",
              "    [theme=dark] .colab-df-convert:hover {\n",
              "      background-color: #434B5C;\n",
              "      box-shadow: 0px 1px 3px 1px rgba(0, 0, 0, 0.15);\n",
              "      filter: drop-shadow(0px 1px 2px rgba(0, 0, 0, 0.3));\n",
              "      fill: #FFFFFF;\n",
              "    }\n",
              "  </style>\n",
              "\n",
              "      <script>\n",
              "        const buttonEl =\n",
              "          document.querySelector('#df-1d674f11-4238-4263-9bb9-2d9b9d40df94 button.colab-df-convert');\n",
              "        buttonEl.style.display =\n",
              "          google.colab.kernel.accessAllowed ? 'block' : 'none';\n",
              "\n",
              "        async function convertToInteractive(key) {\n",
              "          const element = document.querySelector('#df-1d674f11-4238-4263-9bb9-2d9b9d40df94');\n",
              "          const dataTable =\n",
              "            await google.colab.kernel.invokeFunction('convertToInteractive',\n",
              "                                                     [key], {});\n",
              "          if (!dataTable) return;\n",
              "\n",
              "          const docLinkHtml = 'Like what you see? Visit the ' +\n",
              "            '<a target=\"_blank\" href=https://colab.research.google.com/notebooks/data_table.ipynb>data table notebook</a>'\n",
              "            + ' to learn more about interactive tables.';\n",
              "          element.innerHTML = '';\n",
              "          dataTable['output_type'] = 'display_data';\n",
              "          await google.colab.output.renderOutput(dataTable, element);\n",
              "          const docLink = document.createElement('div');\n",
              "          docLink.innerHTML = docLinkHtml;\n",
              "          element.appendChild(docLink);\n",
              "        }\n",
              "      </script>\n",
              "    </div>\n",
              "  </div>\n",
              "  "
            ]
          },
          "metadata": {},
          "execution_count": 137
        }
      ]
    },
    {
      "cell_type": "markdown",
      "source": [
        "<a name = Section3></a>\n",
        "### **3.Feature scaling and selection** "
      ],
      "metadata": {
        "id": "98VCeqpVEVl0"
      }
    },
    {
      "cell_type": "code",
      "source": [
        "from sklearn.preprocessing import StandardScaler\n",
        "scaler = StandardScaler()\n",
        "X_scaled = scaler.fit_transform(df.drop(['status'],axis =1))"
      ],
      "metadata": {
        "id": "a4KbSp-CEU7J"
      },
      "execution_count": null,
      "outputs": []
    },
    {
      "cell_type": "code",
      "source": [
        "x = pd.DataFrame(data=X_scaled, columns=df.drop(['status'],axis =1).columns)\n",
        "y= df['status']"
      ],
      "metadata": {
        "id": "1nbclZ6ME-on"
      },
      "execution_count": null,
      "outputs": []
    },
    {
      "cell_type": "code",
      "source": [
        "from sklearn.feature_selection import SelectFromModel\n",
        "from yellowbrick.model_selection import FeatureImportances \n",
        "from sklearn.ensemble import RandomForestClassifier\n",
        "selector = SelectFromModel(RandomForestClassifier(n_estimators = 10, random_state = 42))\n",
        "selector.fit(x, y)\n",
        "\n",
        "# Extracting list of important features\n",
        "selected_feat = x.columns[(selector.get_support())].tolist()\n",
        "\n",
        "# Show total number of important features extracted by the model\n",
        "print('Total Features Selected are', len(selected_feat))\n",
        "\n",
        "# Estimated by taking mean(default) of feature importance\n",
        "print('Threshold set by Model:', np.round(selector.threshold_, decimals = 2))\n",
        "print('Important Features:', selected_feat)"
      ],
      "metadata": {
        "colab": {
          "base_uri": "https://localhost:8080/"
        },
        "id": "WqwC9f6NE-lT",
        "outputId": "64f3f488-861b-417c-ffb5-d2487c0fdb41"
      },
      "execution_count": null,
      "outputs": [
        {
          "output_type": "stream",
          "name": "stdout",
          "text": [
            "Total Features Selected are 6\n",
            "Threshold set by Model: 0.06\n",
            "Important Features: ['avg_monthly_hrs', 'last_evaluation', 'n_projects', 'satisfaction', 'tenure', 'employee_id']\n"
          ]
        }
      ]
    },
    {
      "cell_type": "code",
      "source": [
        "figure = plt.figure(figsize=[10,10])\n",
        "\n",
        "# If you don't want relative importance, use relative = False in below method\n",
        "viz = FeatureImportances(selector.estimator, relative=False)\n",
        "viz.fit(x, y)\n",
        "\n",
        "plt.xlabel('Relative Importance', size=14)\n",
        "plt.ylabel('Features', size=14)\n",
        "plt.title(label='Feature Importances', size=16)\n",
        "plt.show()"
      ],
      "metadata": {
        "colab": {
          "base_uri": "https://localhost:8080/",
          "height": 627
        },
        "id": "fFAMiyp5FNqO",
        "outputId": "2be87258-a98e-44ff-dcab-08077a10f501"
      },
      "execution_count": null,
      "outputs": [
        {
          "output_type": "display_data",
          "data": {
            "text/plain": [
              "<Figure size 720x720 with 1 Axes>"
            ],
            "image/png": "[encoded data removed]"
          },
          "metadata": {}
        }
      ]
    },
    {
      "cell_type": "markdown",
      "source": [
        "<a name = Section4></a>\n",
        "# **4. Model Development & Evaluation**"
      ],
      "metadata": {
        "id": "23ckwYbjUJ1h"
      }
    },
    {
      "cell_type": "markdown",
      "source": [
        "\n",
        "- In this section, we will develop Logistic Regression and Stochastic Gradient Descent and compare the performance.\n",
        "\n",
        "- For estimating the **performance** of the **model** we will be using **accuracy** as a **metric**.\n",
        "\n",
        "- Considering the complexity of data, we can run a **loop** over multiple **classifiers** and estimate the accuracy of the model.\n",
        "\n",
        "- But in a real-life situation, one must train the model individually as then decide which model is best in which situation."
      ],
      "metadata": {
        "id": "ZImKdSbjGTF3"
      }
    },
    {
      "cell_type": "markdown",
      "source": [
        "<a name = Section4.1></a>\n",
        "### **4.1. Data Preparation**"
      ],
      "metadata": {
        "id": "nSEdylN94cUc"
      }
    },
    {
      "cell_type": "code",
      "source": [
        "def model_eval(actual,predicted):\n",
        "    acc_score = accuracy_score(actual , predicted)\n",
        "    class_report = classification_report(actual , predicted)\n",
        "    print('The accuracy of the model is : ' ,acc_score)\n",
        "    print(confusion_matrix(actual,predicted))\n",
        "    print(class_report)\n",
        "    "
      ],
      "metadata": {
        "id": "nNsYJyOzCUXp"
      },
      "execution_count": null,
      "outputs": []
    },
    {
      "cell_type": "code",
      "source": [
        "def confus_matrix(df):\n",
        "    y_train_pred_count = df.predict(x_train)\n",
        "    y_test_pred_count = df.predict(x_test)\n",
        "\n",
        "    fig, (ax1, ax2) = plt.subplots(nrows=1, ncols=2, sharex=False, figsize=(15, 7))\n",
        "    plot_confusion_matrix(estimator=df, X=x_train, y_true=y_train, values_format='.7g', cmap='YlGnBu', ax=ax1)\n",
        "    plot_confusion_matrix(estimator=df, X=x_test, y_true=y_test, values_format='.7g', cmap='YlGnBu', ax=ax2)\n",
        "    ax1.set_title(label='Train Data', size=14)\n",
        "    ax2.set_title(label='Test Data', size=14)\n",
        "    ax1.grid(b=False)\n",
        "    ax2.grid(b=False)\n",
        "    plt.suptitle(t='Confusion Matrix', size=16)\n",
        "    plt.show()"
      ],
      "metadata": {
        "id": "94TIj-iTIsoU"
      },
      "execution_count": null,
      "outputs": []
    },
    {
      "cell_type": "markdown",
      "source": [
        "**Now we will split our data in training and testing part for further development**"
      ],
      "metadata": {
        "id": "KgEnnoWPFZ4S"
      }
    },
    {
      "cell_type": "code",
      "source": [
        "x_train,x_test,y_train,y_test = train_test_split(x,y,test_size =0.2,random_state=365,stratify = y )"
      ],
      "metadata": {
        "id": "stcK_nMxED1c"
      },
      "execution_count": null,
      "outputs": []
    },
    {
      "cell_type": "code",
      "source": [
        "print('Training Data Shape:', x_train.shape, y_train.shape)\n",
        "print('Testing Data Shape:', x_test.shape, y_test.shape)"
      ],
      "metadata": {
        "colab": {
          "base_uri": "https://localhost:8080/"
        },
        "id": "VmcCEiaYF91K",
        "outputId": "81ff0a6f-4100-4b73-e809-590ac6d5d74d"
      },
      "execution_count": null,
      "outputs": [
        {
          "output_type": "stream",
          "name": "stdout",
          "text": [
            "Training Data Shape: (11316, 17) (11316,)\n",
            "Testing Data Shape: (2829, 17) (2829,)\n"
          ]
        }
      ]
    },
    {
      "cell_type": "markdown",
      "source": [
        "<a name = Section4.2></a>\n",
        "### **4.2. Logistic Regression**"
      ],
      "metadata": {
        "id": "mM5FSIE5DFDj"
      }
    },
    {
      "cell_type": "code",
      "source": [
        "logreg = LogisticRegression()\n",
        "logreg.fit(x_train,y_train)\n",
        "y_lr_train_pred = logreg.predict(x_train)\n",
        "y_lr_test_pred = logreg.predict(x_test)"
      ],
      "metadata": {
        "id": "EZREuE22CUVA"
      },
      "execution_count": null,
      "outputs": []
    },
    {
      "cell_type": "code",
      "source": [
        "model_eval(y_train,y_lr_train_pred)"
      ],
      "metadata": {
        "colab": {
          "base_uri": "https://localhost:8080/"
        },
        "id": "-wSoIZvKCUSW",
        "outputId": "386e6b23-4b04-429f-bbd2-67cce616e36c"
      },
      "execution_count": null,
      "outputs": [
        {
          "output_type": "stream",
          "name": "stdout",
          "text": [
            "The accuracy of the model is :  0.8134499823259103\n",
            "[[8039  587]\n",
            " [1524 1166]]\n",
            "              precision    recall  f1-score   support\n",
            "\n",
            "           0       0.84      0.93      0.88      8626\n",
            "           1       0.67      0.43      0.52      2690\n",
            "\n",
            "    accuracy                           0.81     11316\n",
            "   macro avg       0.75      0.68      0.70     11316\n",
            "weighted avg       0.80      0.81      0.80     11316\n",
            "\n"
          ]
        }
      ]
    },
    {
      "cell_type": "code",
      "source": [
        "model_eval(y_test,y_lr_test_pred)"
      ],
      "metadata": {
        "colab": {
          "base_uri": "https://localhost:8080/"
        },
        "id": "Onz3avwrH6x0",
        "outputId": "7193b669-9532-4d44-c0b5-b115104c6293"
      },
      "execution_count": null,
      "outputs": [
        {
          "output_type": "stream",
          "name": "stdout",
          "text": [
            "The accuracy of the model is :  0.8168964298338636\n",
            "[[2013  143]\n",
            " [ 375  298]]\n",
            "              precision    recall  f1-score   support\n",
            "\n",
            "           0       0.84      0.93      0.89      2156\n",
            "           1       0.68      0.44      0.54       673\n",
            "\n",
            "    accuracy                           0.82      2829\n",
            "   macro avg       0.76      0.69      0.71      2829\n",
            "weighted avg       0.80      0.82      0.80      2829\n",
            "\n"
          ]
        }
      ]
    },
    {
      "cell_type": "code",
      "source": [
        "confus_matrix(logreg)"
      ],
      "metadata": {
        "colab": {
          "base_uri": "https://localhost:8080/"
        },
        "id": "2iWIPPKTH6uD",
        "outputId": "e964f34c-c4f9-4edf-d3ed-6c883bb6668f"
      },
      "execution_count": null,
      "outputs": [
        {
          "output_type": "display_data",
          "data": {
            "text/plain": [
              "<Figure size 1080x504 with 4 Axes>"
            ],
            "image/png": "[encoded data removed]"
          },
          "metadata": {}
        }
      ]
    },
    {
      "cell_type": "code",
      "source": [
        "from sklearn import metrics\n",
        "\n",
        "probs = logreg.predict_proba(x_test)\n",
        "preds = probs[:,1]\n",
        "fpr, tpr, threshold = metrics.roc_curve(y_test, preds)\n",
        "roc_auc = metrics.auc(fpr, tpr)\n",
        "\n",
        "plt.title('Receiver Operating Characteristic')\n",
        "plt.plot(fpr, tpr, 'b', label = 'AUC = %0.2f' % roc_auc)\n",
        "plt.legend(loc = 'lower right')\n",
        "plt.plot([0, 1], [0, 1],'r--')\n",
        "plt.xlim([0, 1])\n",
        "plt.ylim([0, 1])\n",
        "plt.ylabel('True Positive Rate')\n",
        "plt.xlabel('False Positive Rate')\n",
        "plt.show()"
      ],
      "metadata": {
        "colab": {
          "base_uri": "https://localhost:8080/"
        },
        "id": "4TEFJzOuIqQS",
        "outputId": "9f6431f4-0902-4944-e9f6-d37b8235d4b5"
      },
      "execution_count": null,
      "outputs": [
        {
          "output_type": "display_data",
          "data": {
            "text/plain": [
              "<Figure size 576x396 with 1 Axes>"
            ],
            "image/png": "[encoded data removed]"
          },
          "metadata": {}
        }
      ]
    },
    {
      "cell_type": "markdown",
      "source": [
        "<a name = Section4.3></a>\n",
        "### **4.3. RandomForest Classifier**"
      ],
      "metadata": {
        "id": "634s60ioKDZv"
      }
    },
    {
      "cell_type": "code",
      "source": [
        "rf = RandomForestClassifier(n_estimators=100,max_depth=7,n_jobs=-1)\n",
        "rf.fit(x_train,y_train)\n",
        "y_rf_train_pred = rf.predict(x_train)\n",
        "y_rf_test_pred = rf.predict(x_test)"
      ],
      "metadata": {
        "id": "p4xjNkiaKDEI"
      },
      "execution_count": null,
      "outputs": []
    },
    {
      "cell_type": "code",
      "source": [
        "model_eval(y_train,y_rf_train_pred)"
      ],
      "metadata": {
        "colab": {
          "base_uri": "https://localhost:8080/"
        },
        "id": "9nHGNsUWH6rK",
        "outputId": "1fb2321e-e9db-4319-cccf-31c19e785604"
      },
      "execution_count": null,
      "outputs": [
        {
          "output_type": "stream",
          "name": "stdout",
          "text": [
            "The accuracy of the model is :  0.9779957582184517\n",
            "[[8567   59]\n",
            " [ 190 2500]]\n",
            "              precision    recall  f1-score   support\n",
            "\n",
            "           0       0.98      0.99      0.99      8626\n",
            "           1       0.98      0.93      0.95      2690\n",
            "\n",
            "    accuracy                           0.98     11316\n",
            "   macro avg       0.98      0.96      0.97     11316\n",
            "weighted avg       0.98      0.98      0.98     11316\n",
            "\n"
          ]
        }
      ]
    },
    {
      "cell_type": "code",
      "source": [
        "model_eval(y_test,y_rf_test_pred)"
      ],
      "metadata": {
        "colab": {
          "base_uri": "https://localhost:8080/"
        },
        "id": "-uEehmCBMFH2",
        "outputId": "0122f4a3-e2fa-436c-f7d6-0a3c0c15b428"
      },
      "execution_count": null,
      "outputs": [
        {
          "output_type": "stream",
          "name": "stdout",
          "text": [
            "The accuracy of the model is :  0.9699540473665607\n",
            "[[2137   19]\n",
            " [  66  607]]\n",
            "              precision    recall  f1-score   support\n",
            "\n",
            "           0       0.97      0.99      0.98      2156\n",
            "           1       0.97      0.90      0.93       673\n",
            "\n",
            "    accuracy                           0.97      2829\n",
            "   macro avg       0.97      0.95      0.96      2829\n",
            "weighted avg       0.97      0.97      0.97      2829\n",
            "\n"
          ]
        }
      ]
    },
    {
      "cell_type": "code",
      "source": [
        "confus_matrix(rf)"
      ],
      "metadata": {
        "colab": {
          "base_uri": "https://localhost:8080/",
          "height": 462
        },
        "id": "d3INzeuZLlun",
        "outputId": "aea04024-8e08-4529-b961-c6df0f8d27b8"
      },
      "execution_count": null,
      "outputs": [
        {
          "output_type": "display_data",
          "data": {
            "text/plain": [
              "<Figure size 1080x504 with 4 Axes>"
            ],
            "image/png": "[encoded data removed]"
          },
          "metadata": {}
        }
      ]
    },
    {
      "cell_type": "code",
      "source": [
        "from sklearn import metrics\n",
        "\n",
        "probs = rf.predict_proba(x_test)\n",
        "preds = probs[:,1]\n",
        "fpr, tpr, threshold = metrics.roc_curve(y_test, preds)\n",
        "roc_auc = metrics.auc(fpr, tpr)\n",
        "\n",
        "plt.title('Receiver Operating Characteristic')\n",
        "plt.plot(fpr, tpr, 'b', label = 'AUC = %0.2f' % roc_auc)\n",
        "plt.legend(loc = 'lower right')\n",
        "plt.plot([0, 1], [0, 1],'r--')\n",
        "plt.xlim([0, 1])\n",
        "plt.ylim([0, 1])\n",
        "plt.ylabel('True Positive Rate')\n",
        "plt.xlabel('False Positive Rate')\n",
        "plt.show()"
      ],
      "metadata": {
        "colab": {
          "base_uri": "https://localhost:8080/",
          "height": 376
        },
        "id": "P6uyPjKPKxkB",
        "outputId": "fb34a54b-c56b-4daa-bc19-709ffb939855"
      },
      "execution_count": null,
      "outputs": [
        {
          "output_type": "display_data",
          "data": {
            "text/plain": [
              "<Figure size 576x396 with 1 Axes>"
            ],
            "image/png": "[encoded data removed]"
          },
          "metadata": {}
        }
      ]
    },
    {
      "cell_type": "markdown",
      "source": [
        "<a name = Section4.4></a>\n",
        "### **4.4. Decision Tree Classifier**"
      ],
      "metadata": {
        "id": "7CTlSJXeWy0d"
      }
    },
    {
      "cell_type": "code",
      "source": [
        "dtree = DecisionTreeClassifier()\n",
        "dtree.fit(x_train,y_train)\n",
        "preds_dtree_train = dtree.predict(x_train)\n",
        "preds_dtree_test = dtree.predict(x_test)"
      ],
      "metadata": {
        "id": "3Mv6-kheeprC"
      },
      "execution_count": null,
      "outputs": []
    },
    {
      "cell_type": "code",
      "source": [
        "model_eval(y_train,preds_dtree_train)"
      ],
      "metadata": {
        "colab": {
          "base_uri": "https://localhost:8080/"
        },
        "id": "XKa9uFUee2XC",
        "outputId": "1265c60c-4999-417a-e1ea-b624ea9b79a3"
      },
      "execution_count": null,
      "outputs": [
        {
          "output_type": "stream",
          "name": "stdout",
          "text": [
            "The accuracy of the model is :  1.0\n",
            "[[8626    0]\n",
            " [   0 2690]]\n",
            "              precision    recall  f1-score   support\n",
            "\n",
            "           0       1.00      1.00      1.00      8626\n",
            "           1       1.00      1.00      1.00      2690\n",
            "\n",
            "    accuracy                           1.00     11316\n",
            "   macro avg       1.00      1.00      1.00     11316\n",
            "weighted avg       1.00      1.00      1.00     11316\n",
            "\n"
          ]
        }
      ]
    },
    {
      "cell_type": "code",
      "source": [
        "model_eval(y_test,preds_dtree_test)"
      ],
      "metadata": {
        "colab": {
          "base_uri": "https://localhost:8080/"
        },
        "id": "P-LOkbYterHo",
        "outputId": "66b2cc9f-d21e-4601-8651-b5b26cc04a3d"
      },
      "execution_count": null,
      "outputs": [
        {
          "output_type": "stream",
          "name": "stdout",
          "text": [
            "The accuracy of the model is :  0.9621774478614351\n",
            "[[2099   57]\n",
            " [  50  623]]\n",
            "              precision    recall  f1-score   support\n",
            "\n",
            "           0       0.98      0.97      0.98      2156\n",
            "           1       0.92      0.93      0.92       673\n",
            "\n",
            "    accuracy                           0.96      2829\n",
            "   macro avg       0.95      0.95      0.95      2829\n",
            "weighted avg       0.96      0.96      0.96      2829\n",
            "\n"
          ]
        }
      ]
    },
    {
      "cell_type": "markdown",
      "source": [
        "<a name = Section4.5</a>\n",
        "### **4.5. Naive Bayes**"
      ],
      "metadata": {
        "id": "ACMT_ej4cG1G"
      }
    },
    {
      "cell_type": "code",
      "source": [
        "naive = GaussianNB()\n",
        "naive.fit(x_train, y_train)\n",
        "\n",
        "y_train_pred_count = naive.predict(x_train)\n",
        "y_test_pred_count = naive.predict(x_test)\n",
        "\n",
        "y_train_pred_proba = naive.predict_proba(x_train)\n",
        "y_test_pred_proba = naive.predict_proba(x_test)\n",
        "\n",
        "fig, (ax1, ax2) = plt.subplots(nrows = 1, ncols = 2, sharex = False, figsize=(15, 7))\n",
        "plot_confusion_matrix(estimator = naive, X = x_train, y_true = y_train, values_format = '.7g', cmap = 'YlGnBu', ax = ax1)\n",
        "plot_confusion_matrix(estimator = naive, X = x_test, y_true = y_test, values_format = '.7g', cmap = 'YlGnBu', ax = ax2)\n",
        "ax1.set_title(label = 'Train Data', size = 14)\n",
        "ax2.set_title(label = 'Test Data', size = 14)\n",
        "ax1.grid(b = False)\n",
        "ax2.grid(b = False)\n",
        "plt.suptitle(t = 'Confusion Matrix', size = 16)\n",
        "plt.show()"
      ],
      "metadata": {
        "colab": {
          "base_uri": "https://localhost:8080/"
        },
        "id": "xKvlB2KGcMmF",
        "outputId": "b3ce5939-bac4-4b25-b2ba-e00a934847b2"
      },
      "execution_count": null,
      "outputs": [
        {
          "output_type": "display_data",
          "data": {
            "text/plain": [
              "<Figure size 1080x504 with 4 Axes>"
            ],
            "image/png": "[encoded data removed]"
          },
          "metadata": {}
        }
      ]
    },
    {
      "cell_type": "code",
      "source": [
        "model_eval(y_test,y_test_pred_count)"
      ],
      "metadata": {
        "colab": {
          "base_uri": "https://localhost:8080/"
        },
        "id": "iuxX_yY9cYin",
        "outputId": "2aa4c032-bda2-4408-fa88-871e588fed5c"
      },
      "execution_count": null,
      "outputs": [
        {
          "output_type": "stream",
          "name": "stdout",
          "text": [
            "The accuracy of the model is :  0.7087310003534818\n",
            "[[1467  689]\n",
            " [ 135  538]]\n",
            "              precision    recall  f1-score   support\n",
            "\n",
            "           0       0.92      0.68      0.78      2156\n",
            "           1       0.44      0.80      0.57       673\n",
            "\n",
            "    accuracy                           0.71      2829\n",
            "   macro avg       0.68      0.74      0.67      2829\n",
            "weighted avg       0.80      0.71      0.73      2829\n",
            "\n"
          ]
        }
      ]
    },
    {
      "cell_type": "markdown",
      "source": [
        "<a name = Section4.6></a>\n",
        "### **4.6 Ada boosting**"
      ],
      "metadata": {
        "id": "-d5tzymeWt91"
      }
    },
    {
      "cell_type": "code",
      "source": [
        "ada = AdaBoostClassifier()\n",
        "ada.fit(x_train, y_train)\n",
        "preds_ada_train = ada.predict(x_train)\n",
        "preds_ada_test = ada.predict(x_test)\n",
        "print(\"Model evaluating for Test Data : \\n\")\n",
        "print('------------------------------------------------------')\n",
        "print(model_eval(y_test,preds_ada_test))\n",
        "print('------------------------------------------------------')\n",
        "print(\"Model evaluating for Train Data : \\n\")\n",
        "print('------------------------------------------------------')\n",
        "print(model_eval(y_train,preds_ada_train))"
      ],
      "metadata": {
        "colab": {
          "base_uri": "https://localhost:8080/"
        },
        "id": "e62zG_EoagDs",
        "outputId": "58b859ca-6138-4bb9-9978-8b4ab09936d1"
      },
      "execution_count": null,
      "outputs": [
        {
          "output_type": "stream",
          "name": "stdout",
          "text": [
            "Model evaluating for Test Data : \n",
            "\n",
            "------------------------------------------------------\n",
            "The accuracy of the model is :  0.9381406857546837\n",
            "[[2087   69]\n",
            " [ 106  567]]\n",
            "              precision    recall  f1-score   support\n",
            "\n",
            "           0       0.95      0.97      0.96      2156\n",
            "           1       0.89      0.84      0.87       673\n",
            "\n",
            "    accuracy                           0.94      2829\n",
            "   macro avg       0.92      0.91      0.91      2829\n",
            "weighted avg       0.94      0.94      0.94      2829\n",
            "\n",
            "None\n",
            "------------------------------------------------------\n",
            "Model evaluating for Train Data : \n",
            "\n",
            "------------------------------------------------------\n",
            "The accuracy of the model is :  0.9443266171792153\n",
            "[[8373  253]\n",
            " [ 377 2313]]\n",
            "              precision    recall  f1-score   support\n",
            "\n",
            "           0       0.96      0.97      0.96      8626\n",
            "           1       0.90      0.86      0.88      2690\n",
            "\n",
            "    accuracy                           0.94     11316\n",
            "   macro avg       0.93      0.92      0.92     11316\n",
            "weighted avg       0.94      0.94      0.94     11316\n",
            "\n",
            "None\n"
          ]
        }
      ]
    },
    {
      "cell_type": "markdown",
      "source": [
        "<a name = Section4.7></a>\n",
        "### **4.7 XG Boost Classifier**"
      ],
      "metadata": {
        "id": "GNjzbpsUW5LL"
      }
    },
    {
      "cell_type": "code",
      "source": [
        "xgb = XGBClassifier()\n",
        "xgb.fit(x_train, y_train)\n",
        "preds_xgb_train = xgb.predict(x_train)\n",
        "preds_xgb_test = xgb.predict(x_test)\n",
        "print(\"Model evaluating for Test Data : \\n\")\n",
        "print('------------------------------------------------------')\n",
        "print(model_eval(y_test,preds_xgb_test))\n",
        "print('------------------------------------------------------')\n",
        "print(\"Model evaluating for Train Data : \\n\")\n",
        "print('------------------------------------------------------')\n",
        "print(model_eval(y_train,preds_xgb_train))"
      ],
      "metadata": {
        "colab": {
          "base_uri": "https://localhost:8080/"
        },
        "id": "JE5sa1WCW2kQ",
        "outputId": "5af2a712-d622-44d5-ac16-fb7648cfabf6"
      },
      "execution_count": null,
      "outputs": [
        {
          "output_type": "stream",
          "name": "stdout",
          "text": [
            "Model evaluating for Test Data : \n",
            "\n",
            "------------------------------------------------------\n",
            "The accuracy of the model is :  0.9706610109579357\n",
            "[[2130   26]\n",
            " [  57  616]]\n",
            "              precision    recall  f1-score   support\n",
            "\n",
            "           0       0.97      0.99      0.98      2156\n",
            "           1       0.96      0.92      0.94       673\n",
            "\n",
            "    accuracy                           0.97      2829\n",
            "   macro avg       0.97      0.95      0.96      2829\n",
            "weighted avg       0.97      0.97      0.97      2829\n",
            "\n",
            "None\n",
            "------------------------------------------------------\n",
            "Model evaluating for Train Data : \n",
            "\n",
            "------------------------------------------------------\n",
            "The accuracy of the model is :  0.9764934605867798\n",
            "[[8540   86]\n",
            " [ 180 2510]]\n",
            "              precision    recall  f1-score   support\n",
            "\n",
            "           0       0.98      0.99      0.98      8626\n",
            "           1       0.97      0.93      0.95      2690\n",
            "\n",
            "    accuracy                           0.98     11316\n",
            "   macro avg       0.97      0.96      0.97     11316\n",
            "weighted avg       0.98      0.98      0.98     11316\n",
            "\n",
            "None\n"
          ]
        }
      ]
    },
    {
      "cell_type": "code",
      "source": [],
      "metadata": {
        "id": "UKHoVaO5Wq4B"
      },
      "execution_count": null,
      "outputs": []
    },
    {
      "cell_type": "markdown",
      "source": [
        "<a name = Section4.8></a>\n",
        "### **4.8 GradientBoostingClassifier**"
      ],
      "metadata": {
        "id": "YbgiVglOfk9-"
      }
    },
    {
      "cell_type": "code",
      "source": [
        "gbc = GradientBoostingClassifier(n_estimators=100,max_depth=7)\n",
        "gbc.fit(x_train, y_train)\n",
        "preds_gbc_train = gbc.predict(x_train)\n",
        "preds_gbc_test = gbc.predict(x_test)\n",
        "print(\"Model evaluating for Test Data : \\n\")\n",
        "print('------------------------------------------------------')\n",
        "print(model_eval(y_test,preds_gbc_test))\n",
        "print('------------------------------------------------------')\n",
        "print(\"Model evaluating for Train Data : \\n\")\n",
        "print('------------------------------------------------------')\n",
        "print(model_eval(y_train,preds_gbc_train))"
      ],
      "metadata": {
        "colab": {
          "base_uri": "https://localhost:8080/"
        },
        "id": "kVEJzyf3gyM2",
        "outputId": "9959baaf-a1b8-444c-c84b-f0f1b954d354"
      },
      "execution_count": null,
      "outputs": [
        {
          "output_type": "stream",
          "name": "stdout",
          "text": [
            "Model evaluating for Test Data : \n",
            "\n",
            "------------------------------------------------------\n",
            "The accuracy of the model is :  0.9812654648285614\n",
            "[[2145   11]\n",
            " [  42  631]]\n",
            "              precision    recall  f1-score   support\n",
            "\n",
            "           0       0.98      0.99      0.99      2156\n",
            "           1       0.98      0.94      0.96       673\n",
            "\n",
            "    accuracy                           0.98      2829\n",
            "   macro avg       0.98      0.97      0.97      2829\n",
            "weighted avg       0.98      0.98      0.98      2829\n",
            "\n",
            "None\n",
            "------------------------------------------------------\n",
            "Model evaluating for Train Data : \n",
            "\n",
            "------------------------------------------------------\n",
            "The accuracy of the model is :  0.999204665959703\n",
            "[[8622    4]\n",
            " [   5 2685]]\n",
            "              precision    recall  f1-score   support\n",
            "\n",
            "           0       1.00      1.00      1.00      8626\n",
            "           1       1.00      1.00      1.00      2690\n",
            "\n",
            "    accuracy                           1.00     11316\n",
            "   macro avg       1.00      1.00      1.00     11316\n",
            "weighted avg       1.00      1.00      1.00     11316\n",
            "\n",
            "None\n"
          ]
        }
      ]
    },
    {
      "cell_type": "markdown",
      "source": [
        "\n",
        "<a name = Section5></a>\n",
        "# **5. Hyperparameter Tuning** "
      ],
      "metadata": {
        "id": "ftUt4P5tT-LH"
      }
    },
    {
      "cell_type": "markdown",
      "source": [
        "<a name = Section5.1></a>\n",
        "### **5.1 RandomizedSearchCV With RandomForest**"
      ],
      "metadata": {
        "id": "G-hUpHsxLv5i"
      }
    },
    {
      "cell_type": "code",
      "source": [
        "params = {\n",
        "    'max_depth':[5,10,20,30],\n",
        "    'max_leaf_nodes':[16,32,64,128],\n",
        "    'min_samples_leaf':[10,20,30,40,60,80]\n",
        "}\n",
        "rf_search_cv = RandomizedSearchCV(estimator=RandomForestClassifier(n_jobs=-1,random_state=42,\n",
        "                                                                 class_weight='balanced'),\n",
        "                                param_distributions=params,\n",
        "                                 n_jobs = -1,\n",
        "                                 random_state=42,\n",
        "                                 scoring='roc_auc'\n",
        "                                )\n",
        "rf_search_cv.fit(x_train,y_train)"
      ],
      "metadata": {
        "colab": {
          "base_uri": "https://localhost:8080/"
        },
        "id": "APoCWt0XLt5h",
        "outputId": "f49b1995-742f-4b63-d9ac-d05c6878c658"
      },
      "execution_count": null,
      "outputs": [
        {
          "output_type": "execute_result",
          "data": {
            "text/plain": [
              "RandomizedSearchCV(estimator=RandomForestClassifier(class_weight='balanced',\n",
              "                                                    n_jobs=-1,\n",
              "                                                    random_state=42),\n",
              "                   n_jobs=-1,\n",
              "                   param_distributions={'max_depth': [5, 10, 20, 30],\n",
              "                                        'max_leaf_nodes': [16, 32, 64, 128],\n",
              "                                        'min_samples_leaf': [10, 20, 30, 40, 60,\n",
              "                                                             80]},\n",
              "                   random_state=42, scoring='roc_auc')"
            ]
          },
          "metadata": {},
          "execution_count": 164
        }
      ]
    },
    {
      "cell_type": "code",
      "source": [
        "y_rscv_train_pred = rf_search_cv.predict(x_train)\n",
        "y_rscv_test_pred = rf_search_cv.predict(x_test)"
      ],
      "metadata": {
        "id": "RZ5vwYjIM7hK"
      },
      "execution_count": null,
      "outputs": []
    },
    {
      "cell_type": "code",
      "source": [
        "model_eval(y_test,y_rscv_test_pred)"
      ],
      "metadata": {
        "colab": {
          "base_uri": "https://localhost:8080/"
        },
        "id": "QXL0cdMkNIbU",
        "outputId": "abc801b1-def2-4164-efa2-05fb33e61333"
      },
      "execution_count": null,
      "outputs": [
        {
          "output_type": "stream",
          "name": "stdout",
          "text": [
            "The accuracy of the model is :  0.9717214563449982\n",
            "[[2128   28]\n",
            " [  52  621]]\n",
            "              precision    recall  f1-score   support\n",
            "\n",
            "           0       0.98      0.99      0.98      2156\n",
            "           1       0.96      0.92      0.94       673\n",
            "\n",
            "    accuracy                           0.97      2829\n",
            "   macro avg       0.97      0.95      0.96      2829\n",
            "weighted avg       0.97      0.97      0.97      2829\n",
            "\n"
          ]
        }
      ]
    },
    {
      "cell_type": "code",
      "source": [
        "confus_matrix(rf_search_cv)"
      ],
      "metadata": {
        "colab": {
          "base_uri": "https://localhost:8080/"
        },
        "id": "1xsFZxShNmQY",
        "outputId": "544a756b-a487-4da8-c70e-561109948ca9"
      },
      "execution_count": null,
      "outputs": [
        {
          "output_type": "display_data",
          "data": {
            "text/plain": [
              "<Figure size 1080x504 with 4 Axes>"
            ],
            "image/png": "[encoded data removed]"
          },
          "metadata": {}
        }
      ]
    },
    {
      "cell_type": "code",
      "source": [
        "from sklearn import metrics\n",
        "\n",
        "probs = rf_search_cv.predict_proba(x_test)\n",
        "preds = probs[:,1]\n",
        "fpr, tpr, threshold = metrics.roc_curve(y_test, preds)\n",
        "roc_auc = metrics.auc(fpr, tpr)\n",
        "\n",
        "plt.title('Receiver Operating Characteristic')\n",
        "plt.plot(fpr, tpr, 'b', label = 'AUC = %0.2f' % roc_auc)\n",
        "plt.legend(loc = 'lower right')\n",
        "plt.plot([0, 1], [0, 1],'r--')\n",
        "plt.xlim([0, 1])\n",
        "plt.ylim([0, 1])\n",
        "plt.ylabel('True Positive Rate')\n",
        "plt.xlabel('False Positive Rate')\n",
        "plt.show()\n"
      ],
      "metadata": {
        "colab": {
          "base_uri": "https://localhost:8080/"
        },
        "id": "7MIM0L55Liqv",
        "outputId": "f92873f5-f778-4b72-ba29-d9765c817d07"
      },
      "execution_count": null,
      "outputs": [
        {
          "output_type": "display_data",
          "data": {
            "text/plain": [
              "<Figure size 576x396 with 1 Axes>"
            ],
            "image/png": "[encoded data removed]"
          },
          "metadata": {}
        }
      ]
    },
    {
      "cell_type": "markdown",
      "source": [
        "<a name = Section5.2></a>\n",
        "### **5.2 GridSearchCV with Decision Tree Classifier**"
      ],
      "metadata": {
        "id": "5K-57Zn7XKr-"
      }
    },
    {
      "cell_type": "code",
      "source": [
        "param_gcv = {'max_depth': [4,8,10],'min_samples_split': [2,5,10],'min_samples_leaf': [1,2,4]}\n",
        "\n",
        "gcv = GridSearchCV(estimator = dtree,param_grid = param_gcv,cv = 5)\n",
        "\n",
        "gcv.fit(x_train, y_train)\n",
        "\n",
        "# Predicting training and testing labels\n",
        "preds_gcv_train = gcv.predict(x_train)\n",
        "preds_gcv_test = gcv.predict(x_test)\n",
        "print(\"Model evaluating for Test Data : \\n\")\n",
        "print('------------------------------------------------------')\n",
        "print(model_eval(y_test,preds_gcv_test))\n",
        "print('------------------------------------------------------')\n",
        "print(\"Model evaluating for Train Data : \\n\")\n",
        "print('------------------------------------------------------')\n",
        "print(model_eval(y_train,preds_gcv_train))"
      ],
      "metadata": {
        "colab": {
          "base_uri": "https://localhost:8080/"
        },
        "id": "utCsZr05Xci9",
        "outputId": "9a70fb21-f6e5-430e-f8c3-1d6f90e271fc"
      },
      "execution_count": null,
      "outputs": [
        {
          "output_type": "stream",
          "name": "stdout",
          "text": [
            "Model evaluating for Test Data : \n",
            "\n",
            "------------------------------------------------------\n",
            "The accuracy of the model is :  0.9731353835277483\n",
            "[[2136   20]\n",
            " [  56  617]]\n",
            "              precision    recall  f1-score   support\n",
            "\n",
            "           0       0.97      0.99      0.98      2156\n",
            "           1       0.97      0.92      0.94       673\n",
            "\n",
            "    accuracy                           0.97      2829\n",
            "   macro avg       0.97      0.95      0.96      2829\n",
            "weighted avg       0.97      0.97      0.97      2829\n",
            "\n",
            "None\n",
            "------------------------------------------------------\n",
            "Model evaluating for Train Data : \n",
            "\n",
            "------------------------------------------------------\n",
            "The accuracy of the model is :  0.9848002827854365\n",
            "[[8584   42]\n",
            " [ 130 2560]]\n",
            "              precision    recall  f1-score   support\n",
            "\n",
            "           0       0.99      1.00      0.99      8626\n",
            "           1       0.98      0.95      0.97      2690\n",
            "\n",
            "    accuracy                           0.98     11316\n",
            "   macro avg       0.98      0.97      0.98     11316\n",
            "weighted avg       0.98      0.98      0.98     11316\n",
            "\n",
            "None\n"
          ]
        }
      ]
    },
    {
      "cell_type": "code",
      "source": [],
      "metadata": {
        "id": "F6cQpq7DXcfz"
      },
      "execution_count": null,
      "outputs": []
    },
    {
      "cell_type": "markdown",
      "source": [
        "<a name = Section6></a>\n",
        "# **6. Tune Model With Cross Validation**"
      ],
      "metadata": {
        "id": "BDe0enOOXejh"
      }
    },
    {
      "cell_type": "markdown",
      "source": [
        "<a name = Section61></a>\n",
        "### **6.1 Logistic Regression**"
      ],
      "metadata": {
        "id": "P3F2hz4FXvj1"
      }
    },
    {
      "cell_type": "code",
      "source": [
        "from sklearn import model_selection\n",
        "kfold = model_selection.KFold(n_splits=10,shuffle=True,random_state=2)\n",
        "modelLR = LogisticRegression()\n",
        "results = model_selection.cross_val_score(modelLR, x_train, y_train, cv=kfold, scoring='accuracy')\n",
        "print(\"10-fold cross validation average Accuracy score for Logistic Regression: %.3f\" % (results.mean()))"
      ],
      "metadata": {
        "colab": {
          "base_uri": "https://localhost:8080/"
        },
        "id": "bf0G_jEQYED9",
        "outputId": "822f3098-1ed8-44a7-e3f9-a717cc8073fc"
      },
      "execution_count": null,
      "outputs": [
        {
          "output_type": "stream",
          "name": "stdout",
          "text": [
            "10-fold cross validation average Accuracy score for Logistic Regression: 0.813\n"
          ]
        }
      ]
    },
    {
      "cell_type": "markdown",
      "source": [
        "<a name = Section6.2></a>\n",
        "### **6.2 Ada boosting**"
      ],
      "metadata": {
        "id": "QpBnnwIdXvgV"
      }
    },
    {
      "cell_type": "code",
      "source": [
        "score = []\n",
        "for depth in [1,2,10] : \n",
        "    reg_ada = AdaBoostClassifier(DecisionTreeClassifier(max_depth=depth))\n",
        "    scores_ada = model_selection.cross_val_score(reg_ada, x, y, cv=10)\n",
        "    score.append(scores_ada.mean())\n",
        "print(score)"
      ],
      "metadata": {
        "colab": {
          "base_uri": "https://localhost:8080/"
        },
        "id": "hSY-rIDOYZVW",
        "outputId": "2e171648-9ae0-45de-bb4a-cced69303b91"
      },
      "execution_count": null,
      "outputs": [
        {
          "output_type": "stream",
          "name": "stdout",
          "text": [
            "[0.9370033636377266, 0.9717896252017934, 0.9756795497823383]\n"
          ]
        }
      ]
    },
    {
      "cell_type": "markdown",
      "source": [
        "<a name = Section6.3></a>\n",
        "### **6.3 GradientBoosting**"
      ],
      "metadata": {
        "id": "9jZOqeusixQi"
      }
    },
    {
      "cell_type": "code",
      "source": [
        "from sklearn.model_selection import KFold\n",
        "from sklearn.metrics import make_scorer\n",
        "\n",
        "scoring = {'accuracy' : make_scorer(accuracy_score), \n",
        "           'precision' : make_scorer(precision_score),\n",
        "           'recall' : make_scorer(recall_score), \n",
        "           'f1_score' : make_scorer(f1_score)}\n",
        "model_gb = GradientBoostingClassifier(n_estimators=50, random_state=1, learning_rate = 0.10) \n",
        "\n",
        "results_gb = model_selection.cross_validate(model_gb, x,y, cv=10, scoring=scoring)"
      ],
      "metadata": {
        "id": "C4ojIm2Zflgd"
      },
      "execution_count": null,
      "outputs": []
    },
    {
      "cell_type": "code",
      "source": [
        "results_gb_df=pd.DataFrame.from_dict(results_gb)\n",
        "results_gb_df.mean()"
      ],
      "metadata": {
        "colab": {
          "base_uri": "https://localhost:8080/"
        },
        "id": "oeuxwArefpfk",
        "outputId": "2d6af9f4-2c35-4b38-af69-7e5cc5483b5f"
      },
      "execution_count": null,
      "outputs": [
        {
          "output_type": "execute_result",
          "data": {
            "text/plain": [
              "fit_time          1.217979\n",
              "score_time        0.006870\n",
              "test_accuracy     0.969034\n",
              "test_precision    0.957264\n",
              "test_recall       0.910487\n",
              "test_f1_score     0.933217\n",
              "dtype: float64"
            ]
          },
          "metadata": {},
          "execution_count": 173
        }
      ]
    },
    {
      "cell_type": "markdown",
      "source": [
        "<a name = Section6.4></a>\n",
        "### **6.4 XGboost classifier**"
      ],
      "metadata": {
        "id": "TAsloiOfXvdn"
      }
    },
    {
      "cell_type": "code",
      "source": [
        "kfold = KFold(n_splits=10)\n",
        "XGB_cv = XGBClassifier(n_estimators=100, random_state=1, learning_rate = 0.1)\n",
        "results_xgb = model_selection.cross_val_score(XGB_cv, x, y, cv=kfold)\n",
        "\n",
        "print('test accuracy: ',results_xgb.mean())"
      ],
      "metadata": {
        "colab": {
          "base_uri": "https://localhost:8080/"
        },
        "id": "YbnUy_VZk8b1",
        "outputId": "b037e42a-a3cb-4762-8d29-89637447ebe9"
      },
      "execution_count": null,
      "outputs": [
        {
          "output_type": "stream",
          "name": "stdout",
          "text": [
            "test accuracy:  0.9684727685287458\n"
          ]
        }
      ]
    },
    {
      "cell_type": "markdown",
      "source": [],
      "metadata": {
        "id": "VtQPCPctXvaz"
      }
    },
    {
      "cell_type": "code",
      "source": [],
      "metadata": {
        "id": "N_MStKoYXq64"
      },
      "execution_count": null,
      "outputs": []
    },
    {
      "cell_type": "code",
      "source": [],
      "metadata": {
        "id": "V1VZz97cXq3p"
      },
      "execution_count": null,
      "outputs": []
    },
    {
      "cell_type": "markdown",
      "source": [
        "<a name = Section7></a>\n",
        "# **7. Selecting Best Model**"
      ],
      "metadata": {
        "id": "RB0fJznKUawi"
      }
    },
    {
      "cell_type": "code",
      "source": [
        "model_dict = {'Logistic Model':[accuracy_score(y_test,y_lr_test_pred),f1_score(y_test,y_lr_test_pred),precision_score(y_test,y_lr_test_pred),recall_score(y_test,y_lr_test_pred)],\n",
        "            'RandomizedSearchCV(RF)' : [accuracy_score(y_test,y_rscv_test_pred),f1_score(y_test,y_rscv_test_pred),precision_score(y_test,y_rscv_test_pred),recall_score(y_test,y_rscv_test_pred)],\n",
        "            'Gradient Boost Model':[accuracy_score(y_test,preds_gbc_test), f1_score(y_test,preds_gbc_test),precision_score(y_test,preds_gbc_test),recall_score(y_test,preds_gbc_test)],\n",
        "            'RandomForest Model':[accuracy_score(y_test,y_rf_test_pred), f1_score(y_test,y_rf_test_pred),precision_score(y_test,y_rf_test_pred),recall_score(y_test,y_rf_test_pred)],\n",
        "            'Ada Boost Model':[accuracy_score(y_test,preds_ada_test), f1_score(y_test,preds_ada_test),precision_score(y_test,preds_ada_test),recall_score(y_test,preds_ada_test)],\n",
        "            'DecisionTree Model':[accuracy_score(y_test,preds_dtree_test), f1_score(y_test,preds_dtree_test),precision_score(y_test,preds_dtree_test),recall_score(y_test,preds_dtree_test)],\n",
        "            'XGBoost Model':[accuracy_score(y_test,preds_xgb_test), f1_score(y_test,preds_xgb_test),precision_score(y_test,preds_xgb_test),recall_score(y_test,preds_xgb_test)],\n",
        "            'Naive Bayes Model':[accuracy_score(y_test,y_test_pred_count), f1_score(y_test,y_test_pred_count),precision_score(y_test,y_test_pred_count),recall_score(y_test,y_test_pred_count)],\n",
        "            'GridsearchCV Model(DT)':[accuracy_score(y_test,preds_gcv_test), f1_score(y_test,preds_gcv_test),precision_score(y_test,preds_gcv_test),recall_score(y_test,preds_gcv_test)]\n",
        "                                                                                                                                    \n",
        "}"
      ],
      "metadata": {
        "id": "sF16zcXJMwND"
      },
      "execution_count": null,
      "outputs": []
    },
    {
      "cell_type": "code",
      "source": [
        "best_model = pd.DataFrame(model_dict, index=['Accuracy','F1','Precision','Recall'] ).T\n",
        "print(\" Model Comparision- On Test Data\")\n",
        "print(\"-------------------------------------------------\")\n",
        "best_model.round(2)*100"
      ],
      "metadata": {
        "colab": {
          "base_uri": "https://localhost:8080/",
          "height": 366
        },
        "id": "Pt24JUTkM0-S",
        "outputId": "6d0e4330-943b-4fce-fa47-3cb10ed4cded"
      },
      "execution_count": null,
      "outputs": [
        {
          "output_type": "stream",
          "name": "stdout",
          "text": [
            " Model Comparision- On Test Data\n",
            "-------------------------------------------------\n"
          ]
        },
        {
          "output_type": "execute_result",
          "data": {
            "text/plain": [
              "                        Accuracy    F1  Precision  Recall\n",
              "Logistic Model              82.0  54.0       68.0    44.0\n",
              "RandomizedSearchCV(RF)      97.0  94.0       96.0    92.0\n",
              "Gradient Boost Model        98.0  96.0       98.0    94.0\n",
              "RandomForest Model          97.0  93.0       97.0    90.0\n",
              "Ada Boost Model             94.0  87.0       89.0    84.0\n",
              "DecisionTree Model          96.0  92.0       92.0    93.0\n",
              "XGBoost Model               97.0  94.0       96.0    92.0\n",
              "Naive Bayes Model           71.0  57.0       44.0    80.0\n",
              "GridsearchCV Model(DT)      97.0  94.0       97.0    92.0"
            ],
            "text/html": [
              "\n",
              "  <div id=\"df-02775b8e-22b6-462b-8125-c3fc4edad280\">\n",
              "    <div class=\"colab-df-container\">\n",
              "      <div>\n",
              "<style scoped>\n",
              "    .dataframe tbody tr th:only-of-type {\n",
              "        vertical-align: middle;\n",
              "    }\n",
              "\n",
              "    .dataframe tbody tr th {\n",
              "        vertical-align: top;\n",
              "    }\n",
              "\n",
              "    .dataframe thead th {\n",
              "        text-align: right;\n",
              "    }\n",
              "</style>\n",
              "<table border=\"1\" class=\"dataframe\">\n",
              "  <thead>\n",
              "    <tr style=\"text-align: right;\">\n",
              "      <th></th>\n",
              "      <th>Accuracy</th>\n",
              "      <th>F1</th>\n",
              "      <th>Precision</th>\n",
              "      <th>Recall</th>\n",
              "    </tr>\n",
              "  </thead>\n",
              "  <tbody>\n",
              "    <tr>\n",
              "      <th>Logistic Model</th>\n",
              "      <td>82.0</td>\n",
              "      <td>54.0</td>\n",
              "      <td>68.0</td>\n",
              "      <td>44.0</td>\n",
              "    </tr>\n",
              "    <tr>\n",
              "      <th>RandomizedSearchCV(RF)</th>\n",
              "      <td>97.0</td>\n",
              "      <td>94.0</td>\n",
              "      <td>96.0</td>\n",
              "      <td>92.0</td>\n",
              "    </tr>\n",
              "    <tr>\n",
              "      <th>Gradient Boost Model</th>\n",
              "      <td>98.0</td>\n",
              "      <td>96.0</td>\n",
              "      <td>98.0</td>\n",
              "      <td>94.0</td>\n",
              "    </tr>\n",
              "    <tr>\n",
              "      <th>RandomForest Model</th>\n",
              "      <td>97.0</td>\n",
              "      <td>93.0</td>\n",
              "      <td>97.0</td>\n",
              "      <td>90.0</td>\n",
              "    </tr>\n",
              "    <tr>\n",
              "      <th>Ada Boost Model</th>\n",
              "      <td>94.0</td>\n",
              "      <td>87.0</td>\n",
              "      <td>89.0</td>\n",
              "      <td>84.0</td>\n",
              "    </tr>\n",
              "    <tr>\n",
              "      <th>DecisionTree Model</th>\n",
              "      <td>96.0</td>\n",
              "      <td>92.0</td>\n",
              "      <td>92.0</td>\n",
              "      <td>93.0</td>\n",
              "    </tr>\n",
              "    <tr>\n",
              "      <th>XGBoost Model</th>\n",
              "      <td>97.0</td>\n",
              "      <td>94.0</td>\n",
              "      <td>96.0</td>\n",
              "      <td>92.0</td>\n",
              "    </tr>\n",
              "    <tr>\n",
              "      <th>Naive Bayes Model</th>\n",
              "      <td>71.0</td>\n",
              "      <td>57.0</td>\n",
              "      <td>44.0</td>\n",
              "      <td>80.0</td>\n",
              "    </tr>\n",
              "    <tr>\n",
              "      <th>GridsearchCV Model(DT)</th>\n",
              "      <td>97.0</td>\n",
              "      <td>94.0</td>\n",
              "      <td>97.0</td>\n",
              "      <td>92.0</td>\n",
              "    </tr>\n",
              "  </tbody>\n",
              "</table>\n",
              "</div>\n",
              "      <button class=\"colab-df-convert\" onclick=\"convertToInteractive('df-02775b8e-22b6-462b-8125-c3fc4edad280')\"\n",
              "              title=\"Convert this dataframe to an interactive table.\"\n",
              "              style=\"display:none;\">\n",
              "        \n",
              "  <svg xmlns=\"http://www.w3.org/2000/svg\" height=\"24px\"viewBox=\"0 0 24 24\"\n",
              "       width=\"24px\">\n",
              "    <path d=\"M0 0h24v24H0V0z\" fill=\"none\"/>\n",
              "    <path d=\"M18.56 5.44l.94 2.06.94-2.06 2.06-.94-2.06-.94-.94-2.06-.94 2.06-2.06.94zm-11 1L8.5 8.5l.94-2.06 2.06-.94-2.06-.94L8.5 2.5l-.94 2.06-2.06.94zm10 10l.94 2.06.94-2.06 2.06-.94-2.06-.94-.94-2.06-.94 2.06-2.06.94z\"/><path d=\"M17.41 7.96l-1.37-1.37c-.4-.4-.92-.59-1.43-.59-.52 0-1.04.2-1.43.59L10.3 9.45l-7.72 7.72c-.78.78-.78 2.05 0 2.83L4 21.41c.39.39.9.59 1.41.59.51 0 1.02-.2 1.41-.59l7.78-7.78 2.81-2.81c.8-.78.8-2.07 0-2.86zM5.41 20L4 18.59l7.72-7.72 1.47 1.35L5.41 20z\"/>\n",
              "  </svg>\n",
              "      </button>\n",
              "      \n",
              "  <style>\n",
              "    .colab-df-container {\n",
              "      display:flex;\n",
              "      flex-wrap:wrap;\n",
              "      gap: 12px;\n",
              "    }\n",
              "\n",
              "    .colab-df-convert {\n",
              "      background-color: #E8F0FE;\n",
              "      border: none;\n",
              "      border-radius: 50%;\n",
              "      cursor: pointer;\n",
              "      display: none;\n",
              "      fill: #1967D2;\n",
              "      height: 32px;\n",
              "      padding: 0 0 0 0;\n",
              "      width: 32px;\n",
              "    }\n",
              "\n",
              "    .colab-df-convert:hover {\n",
              "      background-color: #E2EBFA;\n",
              "      box-shadow: 0px 1px 2px rgba(60, 64, 67, 0.3), 0px 1px 3px 1px rgba(60, 64, 67, 0.15);\n",
              "      fill: #174EA6;\n",
              "    }\n",
              "\n",
              "    [theme=dark] .colab-df-convert {\n",
              "      background-color: #3B4455;\n",
              "      fill: #D2E3FC;\n",
              "    }\n",
              "\n",
              "    [theme=dark] .colab-df-convert:hover {\n",
              "      background-color: #434B5C;\n",
              "      box-shadow: 0px 1px 3px 1px rgba(0, 0, 0, 0.15);\n",
              "      filter: drop-shadow(0px 1px 2px rgba(0, 0, 0, 0.3));\n",
              "      fill: #FFFFFF;\n",
              "    }\n",
              "  </style>\n",
              "\n",
              "      <script>\n",
              "        const buttonEl =\n",
              "          document.querySelector('#df-02775b8e-22b6-462b-8125-c3fc4edad280 button.colab-df-convert');\n",
              "        buttonEl.style.display =\n",
              "          google.colab.kernel.accessAllowed ? 'block' : 'none';\n",
              "\n",
              "        async function convertToInteractive(key) {\n",
              "          const element = document.querySelector('#df-02775b8e-22b6-462b-8125-c3fc4edad280');\n",
              "          const dataTable =\n",
              "            await google.colab.kernel.invokeFunction('convertToInteractive',\n",
              "                                                     [key], {});\n",
              "          if (!dataTable) return;\n",
              "\n",
              "          const docLinkHtml = 'Like what you see? Visit the ' +\n",
              "            '<a target=\"_blank\" href=https://colab.research.google.com/notebooks/data_table.ipynb>data table notebook</a>'\n",
              "            + ' to learn more about interactive tables.';\n",
              "          element.innerHTML = '';\n",
              "          dataTable['output_type'] = 'display_data';\n",
              "          await google.colab.output.renderOutput(dataTable, element);\n",
              "          const docLink = document.createElement('div');\n",
              "          docLink.innerHTML = docLinkHtml;\n",
              "          element.appendChild(docLink);\n",
              "        }\n",
              "      </script>\n",
              "    </div>\n",
              "  </div>\n",
              "  "
            ]
          },
          "metadata": {},
          "execution_count": 176
        }
      ]
    },
    {
      "cell_type": "markdown",
      "source": [
        "After building diffirent classification models and on comparing, the following conclusions are made for finalizing the best performing model:\n",
        "\n",
        "- Gradient BoostClassifier give highest accuracy scores\n",
        "\n",
        "- As the data is **imbalanced** i.e., the proportion of the staus variable \"Left\" is much less compared to \"Employed\", the **F1 score** in this case is most important to be considered.\n",
        "\n",
        "- Gradient Boost gives higher **F1 score (96%)** compared to all models.\n",
        "\n",
        "- Based on the above considerations, **Gradient Boost** is chosen as the final model for predicting the Unseen Data"
      ],
      "metadata": {
        "id": "IajLCXpyshS0"
      }
    },
    {
      "cell_type": "markdown",
      "source": [
        "<a name = Section8></a>\n",
        "# **8. Uploading and Cleaning of Unseen Data**"
      ],
      "metadata": {
        "id": "WzTZ4XW9UlbJ"
      }
    },
    {
      "cell_type": "code",
      "source": [
        "df_test = pd.read_csv('/content/GCD_Capstone_Project_unseen_data - GCD_Capstone_Project_unseen_data.csv')\n",
        "df_test.head(2)"
      ],
      "metadata": {
        "colab": {
          "base_uri": "https://localhost:8080/",
          "height": 112
        },
        "id": "eQ64jpZvUjRX",
        "outputId": "d6b147a6-0625-474c-ccb3-f561f6ee7021"
      },
      "execution_count": null,
      "outputs": [
        {
          "output_type": "execute_result",
          "data": {
            "text/plain": [
              "   avg_monthly_hrs department  filed_complaint  last_evaluation  n_projects  \\\n",
              "0              134     D00-IT              NaN         0.528841           2   \n",
              "1              221     D00-PD              NaN         0.784561           2   \n",
              "\n",
              "   recently_promoted salary  satisfaction  tenure  employee_id  \n",
              "0                NaN    low      0.400464     3.0       119045  \n",
              "1                NaN    low      0.759513     3.0       112223  "
            ],
            "text/html": [
              "\n",
              "  <div id=\"df-870a67f6-89fb-4a8c-b527-820f79330f66\">\n",
              "    <div class=\"colab-df-container\">\n",
              "      <div>\n",
              "<style scoped>\n",
              "    .dataframe tbody tr th:only-of-type {\n",
              "        vertical-align: middle;\n",
              "    }\n",
              "\n",
              "    .dataframe tbody tr th {\n",
              "        vertical-align: top;\n",
              "    }\n",
              "\n",
              "    .dataframe thead th {\n",
              "        text-align: right;\n",
              "    }\n",
              "</style>\n",
              "<table border=\"1\" class=\"dataframe\">\n",
              "  <thead>\n",
              "    <tr style=\"text-align: right;\">\n",
              "      <th></th>\n",
              "      <th>avg_monthly_hrs</th>\n",
              "      <th>department</th>\n",
              "      <th>filed_complaint</th>\n",
              "      <th>last_evaluation</th>\n",
              "      <th>n_projects</th>\n",
              "      <th>recently_promoted</th>\n",
              "      <th>salary</th>\n",
              "      <th>satisfaction</th>\n",
              "      <th>tenure</th>\n",
              "      <th>employee_id</th>\n",
              "    </tr>\n",
              "  </thead>\n",
              "  <tbody>\n",
              "    <tr>\n",
              "      <th>0</th>\n",
              "      <td>134</td>\n",
              "      <td>D00-IT</td>\n",
              "      <td>NaN</td>\n",
              "      <td>0.528841</td>\n",
              "      <td>2</td>\n",
              "      <td>NaN</td>\n",
              "      <td>low</td>\n",
              "      <td>0.400464</td>\n",
              "      <td>3.0</td>\n",
              "      <td>119045</td>\n",
              "    </tr>\n",
              "    <tr>\n",
              "      <th>1</th>\n",
              "      <td>221</td>\n",
              "      <td>D00-PD</td>\n",
              "      <td>NaN</td>\n",
              "      <td>0.784561</td>\n",
              "      <td>2</td>\n",
              "      <td>NaN</td>\n",
              "      <td>low</td>\n",
              "      <td>0.759513</td>\n",
              "      <td>3.0</td>\n",
              "      <td>112223</td>\n",
              "    </tr>\n",
              "  </tbody>\n",
              "</table>\n",
              "</div>\n",
              "      <button class=\"colab-df-convert\" onclick=\"convertToInteractive('df-870a67f6-89fb-4a8c-b527-820f79330f66')\"\n",
              "              title=\"Convert this dataframe to an interactive table.\"\n",
              "              style=\"display:none;\">\n",
              "        \n",
              "  <svg xmlns=\"http://www.w3.org/2000/svg\" height=\"24px\"viewBox=\"0 0 24 24\"\n",
              "       width=\"24px\">\n",
              "    <path d=\"M0 0h24v24H0V0z\" fill=\"none\"/>\n",
              "    <path d=\"M18.56 5.44l.94 2.06.94-2.06 2.06-.94-2.06-.94-.94-2.06-.94 2.06-2.06.94zm-11 1L8.5 8.5l.94-2.06 2.06-.94-2.06-.94L8.5 2.5l-.94 2.06-2.06.94zm10 10l.94 2.06.94-2.06 2.06-.94-2.06-.94-.94-2.06-.94 2.06-2.06.94z\"/><path d=\"M17.41 7.96l-1.37-1.37c-.4-.4-.92-.59-1.43-.59-.52 0-1.04.2-1.43.59L10.3 9.45l-7.72 7.72c-.78.78-.78 2.05 0 2.83L4 21.41c.39.39.9.59 1.41.59.51 0 1.02-.2 1.41-.59l7.78-7.78 2.81-2.81c.8-.78.8-2.07 0-2.86zM5.41 20L4 18.59l7.72-7.72 1.47 1.35L5.41 20z\"/>\n",
              "  </svg>\n",
              "      </button>\n",
              "      \n",
              "  <style>\n",
              "    .colab-df-container {\n",
              "      display:flex;\n",
              "      flex-wrap:wrap;\n",
              "      gap: 12px;\n",
              "    }\n",
              "\n",
              "    .colab-df-convert {\n",
              "      background-color: #E8F0FE;\n",
              "      border: none;\n",
              "      border-radius: 50%;\n",
              "      cursor: pointer;\n",
              "      display: none;\n",
              "      fill: #1967D2;\n",
              "      height: 32px;\n",
              "      padding: 0 0 0 0;\n",
              "      width: 32px;\n",
              "    }\n",
              "\n",
              "    .colab-df-convert:hover {\n",
              "      background-color: #E2EBFA;\n",
              "      box-shadow: 0px 1px 2px rgba(60, 64, 67, 0.3), 0px 1px 3px 1px rgba(60, 64, 67, 0.15);\n",
              "      fill: #174EA6;\n",
              "    }\n",
              "\n",
              "    [theme=dark] .colab-df-convert {\n",
              "      background-color: #3B4455;\n",
              "      fill: #D2E3FC;\n",
              "    }\n",
              "\n",
              "    [theme=dark] .colab-df-convert:hover {\n",
              "      background-color: #434B5C;\n",
              "      box-shadow: 0px 1px 3px 1px rgba(0, 0, 0, 0.15);\n",
              "      filter: drop-shadow(0px 1px 2px rgba(0, 0, 0, 0.3));\n",
              "      fill: #FFFFFF;\n",
              "    }\n",
              "  </style>\n",
              "\n",
              "      <script>\n",
              "        const buttonEl =\n",
              "          document.querySelector('#df-870a67f6-89fb-4a8c-b527-820f79330f66 button.colab-df-convert');\n",
              "        buttonEl.style.display =\n",
              "          google.colab.kernel.accessAllowed ? 'block' : 'none';\n",
              "\n",
              "        async function convertToInteractive(key) {\n",
              "          const element = document.querySelector('#df-870a67f6-89fb-4a8c-b527-820f79330f66');\n",
              "          const dataTable =\n",
              "            await google.colab.kernel.invokeFunction('convertToInteractive',\n",
              "                                                     [key], {});\n",
              "          if (!dataTable) return;\n",
              "\n",
              "          const docLinkHtml = 'Like what you see? Visit the ' +\n",
              "            '<a target=\"_blank\" href=https://colab.research.google.com/notebooks/data_table.ipynb>data table notebook</a>'\n",
              "            + ' to learn more about interactive tables.';\n",
              "          element.innerHTML = '';\n",
              "          dataTable['output_type'] = 'display_data';\n",
              "          await google.colab.output.renderOutput(dataTable, element);\n",
              "          const docLink = document.createElement('div');\n",
              "          docLink.innerHTML = docLinkHtml;\n",
              "          element.appendChild(docLink);\n",
              "        }\n",
              "      </script>\n",
              "    </div>\n",
              "  </div>\n",
              "  "
            ]
          },
          "metadata": {},
          "execution_count": 177
        }
      ]
    },
    {
      "cell_type": "code",
      "source": [
        "df_test.info()"
      ],
      "metadata": {
        "colab": {
          "base_uri": "https://localhost:8080/"
        },
        "id": "CSWjrdzYUjN3",
        "outputId": "1bff5e6a-535d-441c-c569-9d51c5971c26"
      },
      "execution_count": null,
      "outputs": [
        {
          "output_type": "stream",
          "name": "stdout",
          "text": [
            "<class 'pandas.core.frame.DataFrame'>\n",
            "RangeIndex: 100 entries, 0 to 99\n",
            "Data columns (total 10 columns):\n",
            " #   Column             Non-Null Count  Dtype  \n",
            "---  ------             --------------  -----  \n",
            " 0   avg_monthly_hrs    100 non-null    int64  \n",
            " 1   department         98 non-null     object \n",
            " 2   filed_complaint    15 non-null     float64\n",
            " 3   last_evaluation    83 non-null     float64\n",
            " 4   n_projects         100 non-null    int64  \n",
            " 5   recently_promoted  3 non-null      float64\n",
            " 6   salary             100 non-null    object \n",
            " 7   satisfaction       97 non-null     float64\n",
            " 8   tenure             97 non-null     float64\n",
            " 9   employee_id        100 non-null    int64  \n",
            "dtypes: float64(5), int64(3), object(2)\n",
            "memory usage: 7.9+ KB\n"
          ]
        }
      ]
    },
    {
      "cell_type": "code",
      "source": [
        "df_test.isnull().sum()"
      ],
      "metadata": {
        "colab": {
          "base_uri": "https://localhost:8080/"
        },
        "id": "WGCqvoUZvxfM",
        "outputId": "d8082c14-cfc4-4e9e-c586-a6abf9b3033b"
      },
      "execution_count": null,
      "outputs": [
        {
          "output_type": "execute_result",
          "data": {
            "text/plain": [
              "avg_monthly_hrs       0\n",
              "department            2\n",
              "filed_complaint      85\n",
              "last_evaluation      17\n",
              "n_projects            0\n",
              "recently_promoted    97\n",
              "salary                0\n",
              "satisfaction          3\n",
              "tenure                3\n",
              "employee_id           0\n",
              "dtype: int64"
            ]
          },
          "metadata": {},
          "execution_count": 179
        }
      ]
    },
    {
      "cell_type": "code",
      "source": [
        "emp_details_data = pd.read_csv(\"/content/employee_details_data.csv\")"
      ],
      "metadata": {
        "id": "jy39tgst4cp1"
      },
      "execution_count": null,
      "outputs": []
    },
    {
      "cell_type": "code",
      "source": [
        "test_df =df_test.merge(emp_details_data,how='left',on='employee_id')"
      ],
      "metadata": {
        "id": "PO0x55dQ4CQb"
      },
      "execution_count": null,
      "outputs": []
    },
    {
      "cell_type": "code",
      "source": [
        "test_df.isnull().sum()"
      ],
      "metadata": {
        "colab": {
          "base_uri": "https://localhost:8080/"
        },
        "id": "f4LhiDm948pX",
        "outputId": "b442b3de-5ab8-46f0-f9db-409df8ffe51c"
      },
      "execution_count": null,
      "outputs": [
        {
          "output_type": "execute_result",
          "data": {
            "text/plain": [
              "avg_monthly_hrs       0\n",
              "department            2\n",
              "filed_complaint      85\n",
              "last_evaluation      17\n",
              "n_projects            0\n",
              "recently_promoted    97\n",
              "salary                0\n",
              "satisfaction          3\n",
              "tenure                3\n",
              "employee_id           0\n",
              "age                   0\n",
              "gender                0\n",
              "marital_status        0\n",
              "dtype: int64"
            ]
          },
          "metadata": {},
          "execution_count": 182
        }
      ]
    },
    {
      "cell_type": "code",
      "source": [
        "import missingno as mno\n",
        "mno.matrix(test_df, figsize = (10,6))\n",
        "plt.show()"
      ],
      "metadata": {
        "id": "ukfTo7K1UjLf",
        "colab": {
          "base_uri": "https://localhost:8080/",
          "height": 478
        },
        "outputId": "68b70574-4298-4603-862e-8c8085d67f24"
      },
      "execution_count": null,
      "outputs": [
        {
          "output_type": "display_data",
          "data": {
            "text/plain": [
              "<Figure size 720x432 with 2 Axes>"
            ],
            "image/png": "[encoded data removed]"
          },
          "metadata": {}
        }
      ]
    },
    {
      "cell_type": "code",
      "source": [
        "# Correction in Department ID (-IT to D00-IT )\n",
        "test_df.replace({'-IT'},{'D00-IT'},inplace =True)"
      ],
      "metadata": {
        "id": "pL2jqGEO5yWn"
      },
      "execution_count": null,
      "outputs": []
    },
    {
      "cell_type": "code",
      "source": [
        "# We can consider null value present in Department as Unknown Department and will replace the null value with D00-UN.\n",
        "test_df['department'] = np.where(test_df['department'].isna(),'D00-UN',test_df['department'])"
      ],
      "metadata": {
        "id": "X8p_xvzd6BDE"
      },
      "execution_count": null,
      "outputs": []
    },
    {
      "cell_type": "code",
      "source": [
        "#1 indicates the employee has given complaint. So the remaining data means employees have not given complaint. \n",
        "# Hence instead of removing the column ,we will replace the NAN values with zero for better analysis.\n",
        "\n",
        "test_df['filed_complaint'] = test_df['filed_complaint'].fillna(0)"
      ],
      "metadata": {
        "id": "G8t8PCRY36GA"
      },
      "execution_count": null,
      "outputs": []
    },
    {
      "cell_type": "code",
      "source": [],
      "metadata": {
        "id": "Gb6HoLBu7WCi"
      },
      "execution_count": null,
      "outputs": []
    },
    {
      "cell_type": "code",
      "source": [
        "# We can replace the missing values with mean values of the respective departments.\n",
        "mean = test_df.groupby(['department'])['last_evaluation'].mean()\n",
        "mean_deprt = mean.to_dict()\n",
        "test_df['last_evaluation'] = test_df['last_evaluation'].fillna(test_df['department'].map(mean_deprt))"
      ],
      "metadata": {
        "id": "N_6lQsoZ36DA"
      },
      "execution_count": null,
      "outputs": []
    },
    {
      "cell_type": "code",
      "source": [
        "# Replacing the NaN value present in 'last_evaluation' column of department ID: D00-TP with Zeros(0)\n",
        "test_df['last_evaluation'] = test_df['last_evaluation'].fillna(0)"
      ],
      "metadata": {
        "id": "wLaPzenP6WGA"
      },
      "execution_count": null,
      "outputs": []
    },
    {
      "cell_type": "code",
      "source": [
        "# 1 indicates the employee has been promoted and which means rest of the employee is not promoted yet. \n",
        "# Hence we will replace the NAN values with zero\n",
        "test_df['recently_promoted'] = test_df['recently_promoted'].fillna(0)"
      ],
      "metadata": {
        "id": "r9NxFiZ86tyv"
      },
      "execution_count": null,
      "outputs": []
    },
    {
      "cell_type": "code",
      "source": [
        "# Replacing the NaN values in tenure with '1' \n",
        "test_df['tenure'] = test_df['tenure'].replace(np.NaN,1)\n",
        "test_df['satisfaction'] = test_df['satisfaction'].fillna(0)"
      ],
      "metadata": {
        "id": "D541zIcz36Je"
      },
      "execution_count": null,
      "outputs": []
    },
    {
      "cell_type": "code",
      "source": [
        "test_df.isnull().sum()"
      ],
      "metadata": {
        "colab": {
          "base_uri": "https://localhost:8080/"
        },
        "id": "gL3ro0wQ7yD5",
        "outputId": "3bce1655-abe9-4fb2-9837-94be84891b69"
      },
      "execution_count": null,
      "outputs": [
        {
          "output_type": "execute_result",
          "data": {
            "text/plain": [
              "avg_monthly_hrs      0\n",
              "department           0\n",
              "filed_complaint      0\n",
              "last_evaluation      0\n",
              "n_projects           0\n",
              "recently_promoted    0\n",
              "salary               0\n",
              "satisfaction         0\n",
              "tenure               0\n",
              "employee_id          0\n",
              "age                  0\n",
              "gender               0\n",
              "marital_status       0\n",
              "dtype: int64"
            ]
          },
          "metadata": {},
          "execution_count": 191
        }
      ]
    },
    {
      "cell_type": "code",
      "source": [
        "test_df.info()"
      ],
      "metadata": {
        "colab": {
          "base_uri": "https://localhost:8080/"
        },
        "id": "p924RW0H72CT",
        "outputId": "51517bd2-37a9-480b-9d2a-0ffaab583ec3"
      },
      "execution_count": null,
      "outputs": [
        {
          "output_type": "stream",
          "name": "stdout",
          "text": [
            "<class 'pandas.core.frame.DataFrame'>\n",
            "Int64Index: 100 entries, 0 to 99\n",
            "Data columns (total 13 columns):\n",
            " #   Column             Non-Null Count  Dtype  \n",
            "---  ------             --------------  -----  \n",
            " 0   avg_monthly_hrs    100 non-null    int64  \n",
            " 1   department         100 non-null    object \n",
            " 2   filed_complaint    100 non-null    float64\n",
            " 3   last_evaluation    100 non-null    float64\n",
            " 4   n_projects         100 non-null    int64  \n",
            " 5   recently_promoted  100 non-null    float64\n",
            " 6   salary             100 non-null    object \n",
            " 7   satisfaction       100 non-null    float64\n",
            " 8   tenure             100 non-null    float64\n",
            " 9   employee_id        100 non-null    int64  \n",
            " 10  age                100 non-null    int64  \n",
            " 11  gender             100 non-null    object \n",
            " 12  marital_status     100 non-null    object \n",
            "dtypes: float64(5), int64(4), object(4)\n",
            "memory usage: 10.9+ KB\n"
          ]
        }
      ]
    },
    {
      "cell_type": "code",
      "source": [
        "#One-Hot Encoding\n",
        "cat_feat=['salary','gender','marital_status']\n",
        "new_test_df =pd.get_dummies(test_df,columns = cat_feat)"
      ],
      "metadata": {
        "id": "PK8KXCFN8Lx7"
      },
      "execution_count": null,
      "outputs": []
    },
    {
      "cell_type": "code",
      "source": [
        "#Label encoding\n",
        "from pandas.api.types import CategoricalDtype\n",
        "cat_type = CategoricalDtype(categories=['D00-UN', 'D00-SS', 'D00-SP', 'D00-MT', 'D00-PD', 'D00-IT',\n",
        "       'D00-AD', 'D00-MN', 'D00-ENG', 'D00-PR', 'D00-TP', 'D00-FN'], ordered=True)\n",
        "new_test_df['department'] = new_test_df['department'].astype(cat_type)"
      ],
      "metadata": {
        "id": "OWdFKJUg8dfJ"
      },
      "execution_count": null,
      "outputs": []
    },
    {
      "cell_type": "code",
      "source": [
        "new_test_df['department'] = new_test_df['department'].cat.codes"
      ],
      "metadata": {
        "id": "xSS-qHe69VXX"
      },
      "execution_count": null,
      "outputs": []
    },
    {
      "cell_type": "code",
      "source": [
        "new_test_df.info()"
      ],
      "metadata": {
        "colab": {
          "base_uri": "https://localhost:8080/"
        },
        "id": "tqipPo088iGr",
        "outputId": "fc2746ab-ec18-4ef7-d807-15b4e763edbe"
      },
      "execution_count": null,
      "outputs": [
        {
          "output_type": "stream",
          "name": "stdout",
          "text": [
            "<class 'pandas.core.frame.DataFrame'>\n",
            "Int64Index: 100 entries, 0 to 99\n",
            "Data columns (total 17 columns):\n",
            " #   Column                    Non-Null Count  Dtype  \n",
            "---  ------                    --------------  -----  \n",
            " 0   avg_monthly_hrs           100 non-null    int64  \n",
            " 1   department                100 non-null    int8   \n",
            " 2   filed_complaint           100 non-null    float64\n",
            " 3   last_evaluation           100 non-null    float64\n",
            " 4   n_projects                100 non-null    int64  \n",
            " 5   recently_promoted         100 non-null    float64\n",
            " 6   satisfaction              100 non-null    float64\n",
            " 7   tenure                    100 non-null    float64\n",
            " 8   employee_id               100 non-null    int64  \n",
            " 9   age                       100 non-null    int64  \n",
            " 10  salary_high               100 non-null    uint8  \n",
            " 11  salary_low                100 non-null    uint8  \n",
            " 12  salary_medium             100 non-null    uint8  \n",
            " 13  gender_Female             100 non-null    uint8  \n",
            " 14  gender_Male               100 non-null    uint8  \n",
            " 15  marital_status_Married    100 non-null    uint8  \n",
            " 16  marital_status_Unmarried  100 non-null    uint8  \n",
            "dtypes: float64(5), int64(4), int8(1), uint8(7)\n",
            "memory usage: 8.6 KB\n"
          ]
        }
      ]
    },
    {
      "cell_type": "code",
      "source": [
        "test =new_test_df.drop(columns = 'employee_id')"
      ],
      "metadata": {
        "id": "RMtvMrji_qIq"
      },
      "execution_count": null,
      "outputs": []
    },
    {
      "cell_type": "markdown",
      "source": [
        "**Scaling Unseendata**"
      ],
      "metadata": {
        "id": "YnvOGX1nCz47"
      }
    },
    {
      "cell_type": "code",
      "source": [
        "test_scaled = scaler.transform(new_test_df)"
      ],
      "metadata": {
        "id": "yX9n1EeZ9F_h"
      },
      "execution_count": null,
      "outputs": []
    },
    {
      "cell_type": "markdown",
      "source": [
        "<a name = Section9></a>\n",
        "# **9. Predict Unseendata**"
      ],
      "metadata": {
        "id": "eZbOqBrXC46w"
      }
    },
    {
      "cell_type": "code",
      "source": [
        "pred_unseenData = gbc.predict(test_scaled)\n",
        "unseenData_probability = gbc.predict_proba(test_scaled)\n",
        "predictions_prob = unseenData_probability[:,1].round(2)"
      ],
      "metadata": {
        "id": "hLRBMxs_9ec0"
      },
      "execution_count": null,
      "outputs": []
    },
    {
      "cell_type": "code",
      "source": [
        "predictions = pd.DataFrame(pred_unseenData, columns=['status'])\n",
        "pred_prob = pd.DataFrame(predictions_prob, columns=['Probability to Leave'])"
      ],
      "metadata": {
        "id": "X9DkPaQq97fV"
      },
      "execution_count": null,
      "outputs": []
    },
    {
      "cell_type": "code",
      "source": [
        "predictions.head(5)"
      ],
      "metadata": {
        "colab": {
          "base_uri": "https://localhost:8080/",
          "height": 206
        },
        "id": "iKSyONzJ-PB0",
        "outputId": "3d4e3ad7-d714-4bac-fb82-2ca5e2f518cc"
      },
      "execution_count": null,
      "outputs": [
        {
          "output_type": "execute_result",
          "data": {
            "text/plain": [
              "   status\n",
              "0       1\n",
              "1       0\n",
              "2       1\n",
              "3       0\n",
              "4       0"
            ],
            "text/html": [
              "\n",
              "  <div id=\"df-2f782857-188a-4a52-8fb5-e9293c3a4f09\">\n",
              "    <div class=\"colab-df-container\">\n",
              "      <div>\n",
              "<style scoped>\n",
              "    .dataframe tbody tr th:only-of-type {\n",
              "        vertical-align: middle;\n",
              "    }\n",
              "\n",
              "    .dataframe tbody tr th {\n",
              "        vertical-align: top;\n",
              "    }\n",
              "\n",
              "    .dataframe thead th {\n",
              "        text-align: right;\n",
              "    }\n",
              "</style>\n",
              "<table border=\"1\" class=\"dataframe\">\n",
              "  <thead>\n",
              "    <tr style=\"text-align: right;\">\n",
              "      <th></th>\n",
              "      <th>status</th>\n",
              "    </tr>\n",
              "  </thead>\n",
              "  <tbody>\n",
              "    <tr>\n",
              "      <th>0</th>\n",
              "      <td>1</td>\n",
              "    </tr>\n",
              "    <tr>\n",
              "      <th>1</th>\n",
              "      <td>0</td>\n",
              "    </tr>\n",
              "    <tr>\n",
              "      <th>2</th>\n",
              "      <td>1</td>\n",
              "    </tr>\n",
              "    <tr>\n",
              "      <th>3</th>\n",
              "      <td>0</td>\n",
              "    </tr>\n",
              "    <tr>\n",
              "      <th>4</th>\n",
              "      <td>0</td>\n",
              "    </tr>\n",
              "  </tbody>\n",
              "</table>\n",
              "</div>\n",
              "      <button class=\"colab-df-convert\" onclick=\"convertToInteractive('df-2f782857-188a-4a52-8fb5-e9293c3a4f09')\"\n",
              "              title=\"Convert this dataframe to an interactive table.\"\n",
              "              style=\"display:none;\">\n",
              "        \n",
              "  <svg xmlns=\"http://www.w3.org/2000/svg\" height=\"24px\"viewBox=\"0 0 24 24\"\n",
              "       width=\"24px\">\n",
              "    <path d=\"M0 0h24v24H0V0z\" fill=\"none\"/>\n",
              "    <path d=\"M18.56 5.44l.94 2.06.94-2.06 2.06-.94-2.06-.94-.94-2.06-.94 2.06-2.06.94zm-11 1L8.5 8.5l.94-2.06 2.06-.94-2.06-.94L8.5 2.5l-.94 2.06-2.06.94zm10 10l.94 2.06.94-2.06 2.06-.94-2.06-.94-.94-2.06-.94 2.06-2.06.94z\"/><path d=\"M17.41 7.96l-1.37-1.37c-.4-.4-.92-.59-1.43-.59-.52 0-1.04.2-1.43.59L10.3 9.45l-7.72 7.72c-.78.78-.78 2.05 0 2.83L4 21.41c.39.39.9.59 1.41.59.51 0 1.02-.2 1.41-.59l7.78-7.78 2.81-2.81c.8-.78.8-2.07 0-2.86zM5.41 20L4 18.59l7.72-7.72 1.47 1.35L5.41 20z\"/>\n",
              "  </svg>\n",
              "      </button>\n",
              "      \n",
              "  <style>\n",
              "    .colab-df-container {\n",
              "      display:flex;\n",
              "      flex-wrap:wrap;\n",
              "      gap: 12px;\n",
              "    }\n",
              "\n",
              "    .colab-df-convert {\n",
              "      background-color: #E8F0FE;\n",
              "      border: none;\n",
              "      border-radius: 50%;\n",
              "      cursor: pointer;\n",
              "      display: none;\n",
              "      fill: #1967D2;\n",
              "      height: 32px;\n",
              "      padding: 0 0 0 0;\n",
              "      width: 32px;\n",
              "    }\n",
              "\n",
              "    .colab-df-convert:hover {\n",
              "      background-color: #E2EBFA;\n",
              "      box-shadow: 0px 1px 2px rgba(60, 64, 67, 0.3), 0px 1px 3px 1px rgba(60, 64, 67, 0.15);\n",
              "      fill: #174EA6;\n",
              "    }\n",
              "\n",
              "    [theme=dark] .colab-df-convert {\n",
              "      background-color: #3B4455;\n",
              "      fill: #D2E3FC;\n",
              "    }\n",
              "\n",
              "    [theme=dark] .colab-df-convert:hover {\n",
              "      background-color: #434B5C;\n",
              "      box-shadow: 0px 1px 3px 1px rgba(0, 0, 0, 0.15);\n",
              "      filter: drop-shadow(0px 1px 2px rgba(0, 0, 0, 0.3));\n",
              "      fill: #FFFFFF;\n",
              "    }\n",
              "  </style>\n",
              "\n",
              "      <script>\n",
              "        const buttonEl =\n",
              "          document.querySelector('#df-2f782857-188a-4a52-8fb5-e9293c3a4f09 button.colab-df-convert');\n",
              "        buttonEl.style.display =\n",
              "          google.colab.kernel.accessAllowed ? 'block' : 'none';\n",
              "\n",
              "        async function convertToInteractive(key) {\n",
              "          const element = document.querySelector('#df-2f782857-188a-4a52-8fb5-e9293c3a4f09');\n",
              "          const dataTable =\n",
              "            await google.colab.kernel.invokeFunction('convertToInteractive',\n",
              "                                                     [key], {});\n",
              "          if (!dataTable) return;\n",
              "\n",
              "          const docLinkHtml = 'Like what you see? Visit the ' +\n",
              "            '<a target=\"_blank\" href=https://colab.research.google.com/notebooks/data_table.ipynb>data table notebook</a>'\n",
              "            + ' to learn more about interactive tables.';\n",
              "          element.innerHTML = '';\n",
              "          dataTable['output_type'] = 'display_data';\n",
              "          await google.colab.output.renderOutput(dataTable, element);\n",
              "          const docLink = document.createElement('div');\n",
              "          docLink.innerHTML = docLinkHtml;\n",
              "          element.appendChild(docLink);\n",
              "        }\n",
              "      </script>\n",
              "    </div>\n",
              "  </div>\n",
              "  "
            ]
          },
          "metadata": {},
          "execution_count": 218
        }
      ]
    },
    {
      "cell_type": "code",
      "source": [
        "pred_prob.head(5)"
      ],
      "metadata": {
        "colab": {
          "base_uri": "https://localhost:8080/",
          "height": 206
        },
        "id": "xNHs9tU9-S4d",
        "outputId": "4fefa0c2-46b6-47e5-c696-f65ecd15b3fe"
      },
      "execution_count": null,
      "outputs": [
        {
          "output_type": "execute_result",
          "data": {
            "text/plain": [
              "   Probability to Leave\n",
              "0                  1.00\n",
              "1                  0.09\n",
              "2                  0.99\n",
              "3                  0.00\n",
              "4                  0.04"
            ],
            "text/html": [
              "\n",
              "  <div id=\"df-f1972bfc-f83e-4a80-b1eb-3dec307c6423\">\n",
              "    <div class=\"colab-df-container\">\n",
              "      <div>\n",
              "<style scoped>\n",
              "    .dataframe tbody tr th:only-of-type {\n",
              "        vertical-align: middle;\n",
              "    }\n",
              "\n",
              "    .dataframe tbody tr th {\n",
              "        vertical-align: top;\n",
              "    }\n",
              "\n",
              "    .dataframe thead th {\n",
              "        text-align: right;\n",
              "    }\n",
              "</style>\n",
              "<table border=\"1\" class=\"dataframe\">\n",
              "  <thead>\n",
              "    <tr style=\"text-align: right;\">\n",
              "      <th></th>\n",
              "      <th>Probability to Leave</th>\n",
              "    </tr>\n",
              "  </thead>\n",
              "  <tbody>\n",
              "    <tr>\n",
              "      <th>0</th>\n",
              "      <td>1.00</td>\n",
              "    </tr>\n",
              "    <tr>\n",
              "      <th>1</th>\n",
              "      <td>0.09</td>\n",
              "    </tr>\n",
              "    <tr>\n",
              "      <th>2</th>\n",
              "      <td>0.99</td>\n",
              "    </tr>\n",
              "    <tr>\n",
              "      <th>3</th>\n",
              "      <td>0.00</td>\n",
              "    </tr>\n",
              "    <tr>\n",
              "      <th>4</th>\n",
              "      <td>0.04</td>\n",
              "    </tr>\n",
              "  </tbody>\n",
              "</table>\n",
              "</div>\n",
              "      <button class=\"colab-df-convert\" onclick=\"convertToInteractive('df-f1972bfc-f83e-4a80-b1eb-3dec307c6423')\"\n",
              "              title=\"Convert this dataframe to an interactive table.\"\n",
              "              style=\"display:none;\">\n",
              "        \n",
              "  <svg xmlns=\"http://www.w3.org/2000/svg\" height=\"24px\"viewBox=\"0 0 24 24\"\n",
              "       width=\"24px\">\n",
              "    <path d=\"M0 0h24v24H0V0z\" fill=\"none\"/>\n",
              "    <path d=\"M18.56 5.44l.94 2.06.94-2.06 2.06-.94-2.06-.94-.94-2.06-.94 2.06-2.06.94zm-11 1L8.5 8.5l.94-2.06 2.06-.94-2.06-.94L8.5 2.5l-.94 2.06-2.06.94zm10 10l.94 2.06.94-2.06 2.06-.94-2.06-.94-.94-2.06-.94 2.06-2.06.94z\"/><path d=\"M17.41 7.96l-1.37-1.37c-.4-.4-.92-.59-1.43-.59-.52 0-1.04.2-1.43.59L10.3 9.45l-7.72 7.72c-.78.78-.78 2.05 0 2.83L4 21.41c.39.39.9.59 1.41.59.51 0 1.02-.2 1.41-.59l7.78-7.78 2.81-2.81c.8-.78.8-2.07 0-2.86zM5.41 20L4 18.59l7.72-7.72 1.47 1.35L5.41 20z\"/>\n",
              "  </svg>\n",
              "      </button>\n",
              "      \n",
              "  <style>\n",
              "    .colab-df-container {\n",
              "      display:flex;\n",
              "      flex-wrap:wrap;\n",
              "      gap: 12px;\n",
              "    }\n",
              "\n",
              "    .colab-df-convert {\n",
              "      background-color: #E8F0FE;\n",
              "      border: none;\n",
              "      border-radius: 50%;\n",
              "      cursor: pointer;\n",
              "      display: none;\n",
              "      fill: #1967D2;\n",
              "      height: 32px;\n",
              "      padding: 0 0 0 0;\n",
              "      width: 32px;\n",
              "    }\n",
              "\n",
              "    .colab-df-convert:hover {\n",
              "      background-color: #E2EBFA;\n",
              "      box-shadow: 0px 1px 2px rgba(60, 64, 67, 0.3), 0px 1px 3px 1px rgba(60, 64, 67, 0.15);\n",
              "      fill: #174EA6;\n",
              "    }\n",
              "\n",
              "    [theme=dark] .colab-df-convert {\n",
              "      background-color: #3B4455;\n",
              "      fill: #D2E3FC;\n",
              "    }\n",
              "\n",
              "    [theme=dark] .colab-df-convert:hover {\n",
              "      background-color: #434B5C;\n",
              "      box-shadow: 0px 1px 3px 1px rgba(0, 0, 0, 0.15);\n",
              "      filter: drop-shadow(0px 1px 2px rgba(0, 0, 0, 0.3));\n",
              "      fill: #FFFFFF;\n",
              "    }\n",
              "  </style>\n",
              "\n",
              "      <script>\n",
              "        const buttonEl =\n",
              "          document.querySelector('#df-f1972bfc-f83e-4a80-b1eb-3dec307c6423 button.colab-df-convert');\n",
              "        buttonEl.style.display =\n",
              "          google.colab.kernel.accessAllowed ? 'block' : 'none';\n",
              "\n",
              "        async function convertToInteractive(key) {\n",
              "          const element = document.querySelector('#df-f1972bfc-f83e-4a80-b1eb-3dec307c6423');\n",
              "          const dataTable =\n",
              "            await google.colab.kernel.invokeFunction('convertToInteractive',\n",
              "                                                     [key], {});\n",
              "          if (!dataTable) return;\n",
              "\n",
              "          const docLinkHtml = 'Like what you see? Visit the ' +\n",
              "            '<a target=\"_blank\" href=https://colab.research.google.com/notebooks/data_table.ipynb>data table notebook</a>'\n",
              "            + ' to learn more about interactive tables.';\n",
              "          element.innerHTML = '';\n",
              "          dataTable['output_type'] = 'display_data';\n",
              "          await google.colab.output.renderOutput(dataTable, element);\n",
              "          const docLink = document.createElement('div');\n",
              "          docLink.innerHTML = docLinkHtml;\n",
              "          element.appendChild(docLink);\n",
              "        }\n",
              "      </script>\n",
              "    </div>\n",
              "  </div>\n",
              "  "
            ]
          },
          "metadata": {},
          "execution_count": 226
        }
      ]
    },
    {
      "cell_type": "code",
      "source": [
        "employee_id = new_test_df[['employee_id']]\n",
        "employee_id.head(2)"
      ],
      "metadata": {
        "colab": {
          "base_uri": "https://localhost:8080/",
          "height": 112
        },
        "id": "ByvOAevz-VVg",
        "outputId": "5e21a2ce-1fd0-4a59-f943-ec31a71b209e"
      },
      "execution_count": null,
      "outputs": [
        {
          "output_type": "execute_result",
          "data": {
            "text/plain": [
              "   employee_id\n",
              "0       119045\n",
              "1       112223"
            ],
            "text/html": [
              "\n",
              "  <div id=\"df-4f30b95c-f000-4dcb-bccf-66a3a8c146e8\">\n",
              "    <div class=\"colab-df-container\">\n",
              "      <div>\n",
              "<style scoped>\n",
              "    .dataframe tbody tr th:only-of-type {\n",
              "        vertical-align: middle;\n",
              "    }\n",
              "\n",
              "    .dataframe tbody tr th {\n",
              "        vertical-align: top;\n",
              "    }\n",
              "\n",
              "    .dataframe thead th {\n",
              "        text-align: right;\n",
              "    }\n",
              "</style>\n",
              "<table border=\"1\" class=\"dataframe\">\n",
              "  <thead>\n",
              "    <tr style=\"text-align: right;\">\n",
              "      <th></th>\n",
              "      <th>employee_id</th>\n",
              "    </tr>\n",
              "  </thead>\n",
              "  <tbody>\n",
              "    <tr>\n",
              "      <th>0</th>\n",
              "      <td>119045</td>\n",
              "    </tr>\n",
              "    <tr>\n",
              "      <th>1</th>\n",
              "      <td>112223</td>\n",
              "    </tr>\n",
              "  </tbody>\n",
              "</table>\n",
              "</div>\n",
              "      <button class=\"colab-df-convert\" onclick=\"convertToInteractive('df-4f30b95c-f000-4dcb-bccf-66a3a8c146e8')\"\n",
              "              title=\"Convert this dataframe to an interactive table.\"\n",
              "              style=\"display:none;\">\n",
              "        \n",
              "  <svg xmlns=\"http://www.w3.org/2000/svg\" height=\"24px\"viewBox=\"0 0 24 24\"\n",
              "       width=\"24px\">\n",
              "    <path d=\"M0 0h24v24H0V0z\" fill=\"none\"/>\n",
              "    <path d=\"M18.56 5.44l.94 2.06.94-2.06 2.06-.94-2.06-.94-.94-2.06-.94 2.06-2.06.94zm-11 1L8.5 8.5l.94-2.06 2.06-.94-2.06-.94L8.5 2.5l-.94 2.06-2.06.94zm10 10l.94 2.06.94-2.06 2.06-.94-2.06-.94-.94-2.06-.94 2.06-2.06.94z\"/><path d=\"M17.41 7.96l-1.37-1.37c-.4-.4-.92-.59-1.43-.59-.52 0-1.04.2-1.43.59L10.3 9.45l-7.72 7.72c-.78.78-.78 2.05 0 2.83L4 21.41c.39.39.9.59 1.41.59.51 0 1.02-.2 1.41-.59l7.78-7.78 2.81-2.81c.8-.78.8-2.07 0-2.86zM5.41 20L4 18.59l7.72-7.72 1.47 1.35L5.41 20z\"/>\n",
              "  </svg>\n",
              "      </button>\n",
              "      \n",
              "  <style>\n",
              "    .colab-df-container {\n",
              "      display:flex;\n",
              "      flex-wrap:wrap;\n",
              "      gap: 12px;\n",
              "    }\n",
              "\n",
              "    .colab-df-convert {\n",
              "      background-color: #E8F0FE;\n",
              "      border: none;\n",
              "      border-radius: 50%;\n",
              "      cursor: pointer;\n",
              "      display: none;\n",
              "      fill: #1967D2;\n",
              "      height: 32px;\n",
              "      padding: 0 0 0 0;\n",
              "      width: 32px;\n",
              "    }\n",
              "\n",
              "    .colab-df-convert:hover {\n",
              "      background-color: #E2EBFA;\n",
              "      box-shadow: 0px 1px 2px rgba(60, 64, 67, 0.3), 0px 1px 3px 1px rgba(60, 64, 67, 0.15);\n",
              "      fill: #174EA6;\n",
              "    }\n",
              "\n",
              "    [theme=dark] .colab-df-convert {\n",
              "      background-color: #3B4455;\n",
              "      fill: #D2E3FC;\n",
              "    }\n",
              "\n",
              "    [theme=dark] .colab-df-convert:hover {\n",
              "      background-color: #434B5C;\n",
              "      box-shadow: 0px 1px 3px 1px rgba(0, 0, 0, 0.15);\n",
              "      filter: drop-shadow(0px 1px 2px rgba(0, 0, 0, 0.3));\n",
              "      fill: #FFFFFF;\n",
              "    }\n",
              "  </style>\n",
              "\n",
              "      <script>\n",
              "        const buttonEl =\n",
              "          document.querySelector('#df-4f30b95c-f000-4dcb-bccf-66a3a8c146e8 button.colab-df-convert');\n",
              "        buttonEl.style.display =\n",
              "          google.colab.kernel.accessAllowed ? 'block' : 'none';\n",
              "\n",
              "        async function convertToInteractive(key) {\n",
              "          const element = document.querySelector('#df-4f30b95c-f000-4dcb-bccf-66a3a8c146e8');\n",
              "          const dataTable =\n",
              "            await google.colab.kernel.invokeFunction('convertToInteractive',\n",
              "                                                     [key], {});\n",
              "          if (!dataTable) return;\n",
              "\n",
              "          const docLinkHtml = 'Like what you see? Visit the ' +\n",
              "            '<a target=\"_blank\" href=https://colab.research.google.com/notebooks/data_table.ipynb>data table notebook</a>'\n",
              "            + ' to learn more about interactive tables.';\n",
              "          element.innerHTML = '';\n",
              "          dataTable['output_type'] = 'display_data';\n",
              "          await google.colab.output.renderOutput(dataTable, element);\n",
              "          const docLink = document.createElement('div');\n",
              "          docLink.innerHTML = docLinkHtml;\n",
              "          element.appendChild(docLink);\n",
              "        }\n",
              "      </script>\n",
              "    </div>\n",
              "  </div>\n",
              "  "
            ]
          },
          "metadata": {},
          "execution_count": 220
        }
      ]
    },
    {
      "cell_type": "code",
      "source": [
        "submission = pd.concat([employee_id,pred_prob],axis =1)\n",
        "submission.head()"
      ],
      "metadata": {
        "colab": {
          "base_uri": "https://localhost:8080/",
          "height": 206
        },
        "id": "4TLcTk00BWwJ",
        "outputId": "be12f770-4cf9-45ad-9ba8-6eb2685f0e3a"
      },
      "execution_count": null,
      "outputs": [
        {
          "output_type": "execute_result",
          "data": {
            "text/plain": [
              "   employee_id  Probability to Leave\n",
              "0       119045                  1.00\n",
              "1       112223                  0.09\n",
              "2       103924                  0.99\n",
              "3       105922                  0.00\n",
              "4       103297                  0.04"
            ],
            "text/html": [
              "\n",
              "  <div id=\"df-6ee697f2-9910-46ce-98d2-5e059a6a0b8e\">\n",
              "    <div class=\"colab-df-container\">\n",
              "      <div>\n",
              "<style scoped>\n",
              "    .dataframe tbody tr th:only-of-type {\n",
              "        vertical-align: middle;\n",
              "    }\n",
              "\n",
              "    .dataframe tbody tr th {\n",
              "        vertical-align: top;\n",
              "    }\n",
              "\n",
              "    .dataframe thead th {\n",
              "        text-align: right;\n",
              "    }\n",
              "</style>\n",
              "<table border=\"1\" class=\"dataframe\">\n",
              "  <thead>\n",
              "    <tr style=\"text-align: right;\">\n",
              "      <th></th>\n",
              "      <th>employee_id</th>\n",
              "      <th>Probability to Leave</th>\n",
              "    </tr>\n",
              "  </thead>\n",
              "  <tbody>\n",
              "    <tr>\n",
              "      <th>0</th>\n",
              "      <td>119045</td>\n",
              "      <td>1.00</td>\n",
              "    </tr>\n",
              "    <tr>\n",
              "      <th>1</th>\n",
              "      <td>112223</td>\n",
              "      <td>0.09</td>\n",
              "    </tr>\n",
              "    <tr>\n",
              "      <th>2</th>\n",
              "      <td>103924</td>\n",
              "      <td>0.99</td>\n",
              "    </tr>\n",
              "    <tr>\n",
              "      <th>3</th>\n",
              "      <td>105922</td>\n",
              "      <td>0.00</td>\n",
              "    </tr>\n",
              "    <tr>\n",
              "      <th>4</th>\n",
              "      <td>103297</td>\n",
              "      <td>0.04</td>\n",
              "    </tr>\n",
              "  </tbody>\n",
              "</table>\n",
              "</div>\n",
              "      <button class=\"colab-df-convert\" onclick=\"convertToInteractive('df-6ee697f2-9910-46ce-98d2-5e059a6a0b8e')\"\n",
              "              title=\"Convert this dataframe to an interactive table.\"\n",
              "              style=\"display:none;\">\n",
              "        \n",
              "  <svg xmlns=\"http://www.w3.org/2000/svg\" height=\"24px\"viewBox=\"0 0 24 24\"\n",
              "       width=\"24px\">\n",
              "    <path d=\"M0 0h24v24H0V0z\" fill=\"none\"/>\n",
              "    <path d=\"M18.56 5.44l.94 2.06.94-2.06 2.06-.94-2.06-.94-.94-2.06-.94 2.06-2.06.94zm-11 1L8.5 8.5l.94-2.06 2.06-.94-2.06-.94L8.5 2.5l-.94 2.06-2.06.94zm10 10l.94 2.06.94-2.06 2.06-.94-2.06-.94-.94-2.06-.94 2.06-2.06.94z\"/><path d=\"M17.41 7.96l-1.37-1.37c-.4-.4-.92-.59-1.43-.59-.52 0-1.04.2-1.43.59L10.3 9.45l-7.72 7.72c-.78.78-.78 2.05 0 2.83L4 21.41c.39.39.9.59 1.41.59.51 0 1.02-.2 1.41-.59l7.78-7.78 2.81-2.81c.8-.78.8-2.07 0-2.86zM5.41 20L4 18.59l7.72-7.72 1.47 1.35L5.41 20z\"/>\n",
              "  </svg>\n",
              "      </button>\n",
              "      \n",
              "  <style>\n",
              "    .colab-df-container {\n",
              "      display:flex;\n",
              "      flex-wrap:wrap;\n",
              "      gap: 12px;\n",
              "    }\n",
              "\n",
              "    .colab-df-convert {\n",
              "      background-color: #E8F0FE;\n",
              "      border: none;\n",
              "      border-radius: 50%;\n",
              "      cursor: pointer;\n",
              "      display: none;\n",
              "      fill: #1967D2;\n",
              "      height: 32px;\n",
              "      padding: 0 0 0 0;\n",
              "      width: 32px;\n",
              "    }\n",
              "\n",
              "    .colab-df-convert:hover {\n",
              "      background-color: #E2EBFA;\n",
              "      box-shadow: 0px 1px 2px rgba(60, 64, 67, 0.3), 0px 1px 3px 1px rgba(60, 64, 67, 0.15);\n",
              "      fill: #174EA6;\n",
              "    }\n",
              "\n",
              "    [theme=dark] .colab-df-convert {\n",
              "      background-color: #3B4455;\n",
              "      fill: #D2E3FC;\n",
              "    }\n",
              "\n",
              "    [theme=dark] .colab-df-convert:hover {\n",
              "      background-color: #434B5C;\n",
              "      box-shadow: 0px 1px 3px 1px rgba(0, 0, 0, 0.15);\n",
              "      filter: drop-shadow(0px 1px 2px rgba(0, 0, 0, 0.3));\n",
              "      fill: #FFFFFF;\n",
              "    }\n",
              "  </style>\n",
              "\n",
              "      <script>\n",
              "        const buttonEl =\n",
              "          document.querySelector('#df-6ee697f2-9910-46ce-98d2-5e059a6a0b8e button.colab-df-convert');\n",
              "        buttonEl.style.display =\n",
              "          google.colab.kernel.accessAllowed ? 'block' : 'none';\n",
              "\n",
              "        async function convertToInteractive(key) {\n",
              "          const element = document.querySelector('#df-6ee697f2-9910-46ce-98d2-5e059a6a0b8e');\n",
              "          const dataTable =\n",
              "            await google.colab.kernel.invokeFunction('convertToInteractive',\n",
              "                                                     [key], {});\n",
              "          if (!dataTable) return;\n",
              "\n",
              "          const docLinkHtml = 'Like what you see? Visit the ' +\n",
              "            '<a target=\"_blank\" href=https://colab.research.google.com/notebooks/data_table.ipynb>data table notebook</a>'\n",
              "            + ' to learn more about interactive tables.';\n",
              "          element.innerHTML = '';\n",
              "          dataTable['output_type'] = 'display_data';\n",
              "          await google.colab.output.renderOutput(dataTable, element);\n",
              "          const docLink = document.createElement('div');\n",
              "          docLink.innerHTML = docLinkHtml;\n",
              "          element.appendChild(docLink);\n",
              "        }\n",
              "      </script>\n",
              "    </div>\n",
              "  </div>\n",
              "  "
            ]
          },
          "metadata": {},
          "execution_count": 227
        }
      ]
    },
    {
      "cell_type": "code",
      "source": [
        "submission.to_csv('submission_GCD_Project_1009.csv',index=False,header = False)"
      ],
      "metadata": {
        "id": "uaSmfOuICH1l"
      },
      "execution_count": null,
      "outputs": []
    },
    {
      "cell_type": "markdown",
      "source": [
        "<a name = Section10></a>\n",
        "# **10.Conclusion**"
      ],
      "metadata": {
        "id": "uCOwfxeL6Jqe"
      }
    },
    {
      "cell_type": "markdown",
      "source": [
        "- We have seen the impact of various factors such as **age, gender, marital_status, department, salary, tenure, n_projects, avg_monthly_hrs, satisfaction, last_evaluation on the employee status**.\n",
        "\n",
        "- We scaled our data so that one feature does not have too much weightage in explaining the target.\n",
        " \n",
        "- We have performed model development using various **ML algorithm like decision tree, logistic regression,ada boosting, xgboost , navie bayes and gradient boosting**.\n",
        "\n",
        "- After building diffirent classification models and on comparing, the following conclusions are made for finalizing the best performing model:\n",
        "\n",
        "- **Gradient BoostClassifier** gave highest accuracy scores.\n",
        "\n",
        "- As the data is **imbalanced i.e., the proportion of the staus variable \"Left\" is much less compared to \"Employed\", the F1 score** in this case is most important to be considered.\n",
        "\n",
        "- **Gradient Boost gives higher F1 score (96%) compared to all models.**\n",
        "\n",
        "- Based on the above considerations, Gradient Boost is chosen as the final model for predicting the Unseen Data.\n",
        "\n",
        "- This model will help us to **control the employees attrition rate** in company and also help to identify which employee may likely to leave the company on the basis of **predicted probability**.\n",
        "\n"
      ],
      "metadata": {
        "id": "0Bq5fmH27Cqy"
      }
    },
    {
      "cell_type": "markdown",
      "source": [],
      "metadata": {
        "id": "Bt2s_3AMDC4j"
      }
    }
  ]
}